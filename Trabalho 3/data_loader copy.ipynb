{
 "cells": [
  {
   "cell_type": "markdown",
   "metadata": {},
   "source": [
    "- ordem: \n",
    "\n",
    "length mínimo: 6\n",
    "\n",
    "length máximo: 9\n",
    "\n",
    "- latitude: \n",
    "\n",
    "length mínimo: 2\n",
    "\n",
    "length máximo: 9\n",
    "\n",
    "- longitude: \n",
    "\n",
    "length mínimo: 5\n",
    "\n",
    "length máximo: 9\n",
    "\n",
    "- datahora: \n",
    "\n",
    "length mínimo: 13\n",
    "\n",
    "length máximo: 13\n",
    "\n",
    "- velocidade: \n",
    "\n",
    "length mínimo: 1\n",
    "\n",
    "length máximo: 3\n",
    "\n",
    "- linha: \n",
    "\n",
    "length mínimo: 1\n",
    "\n",
    "length máximo: 10\n",
    "\n",
    "- datahoraenvio: \n",
    "\n",
    "length mínimo: 13\n",
    "\n",
    "length máximo: 13\n",
    "\n",
    "- datahoraservidor: \n",
    "\n",
    "length mínimo: 13\n",
    "\n",
    "length máximo: 13"
   ]
  },
  {
   "cell_type": "code",
   "execution_count": 1,
   "metadata": {},
   "outputs": [],
   "source": [
    "import os\n",
    "import pandas as pd\n",
    "from sqlalchemy import create_engine, MetaData, Table, Column, String, Float, Integer\n",
    "from sqlalchemy.exc import SQLAlchemyError\n",
    "import logging"
   ]
  },
  {
   "cell_type": "code",
   "execution_count": 2,
   "metadata": {},
   "outputs": [],
   "source": [
    "# Definir o diretório base\n",
    "base_dir = r\"C:\\Users\\wpett\\Downloads\\Trabalho 3 - Data Mining\""
   ]
  },
  {
   "cell_type": "code",
   "execution_count": 3,
   "metadata": {},
   "outputs": [],
   "source": [
    "# Configurações do banco de dados PostgreSQL\n",
    "db_user = ''\n",
    "db_password = ''\n",
    "db_host = ''\n",
    "db_port = ''\n",
    "db_name = ''\n",
    "table_name = ''"
   ]
  },
  {
   "cell_type": "code",
   "execution_count": 4,
   "metadata": {},
   "outputs": [],
   "source": [
    "# Criar a engine de conexão com o PostgreSQL\n",
    "engine = create_engine(f'postgresql+psycopg2://{db_user}:{db_password}@{db_host}:{db_port}/{db_name}')"
   ]
  },
  {
   "cell_type": "code",
   "execution_count": 5,
   "metadata": {},
   "outputs": [],
   "source": [
    "# Configurar o logging para registrar mensagens em um arquivo\n",
    "logging.basicConfig(filename='log.txt', level=logging.INFO, format='%(asctime)s %(levelname)s:%(message)s')"
   ]
  },
  {
   "cell_type": "code",
   "execution_count": 6,
   "metadata": {},
   "outputs": [],
   "source": [
    "# Definir o esquema da tabela\n",
    "metadata = MetaData()\n",
    "\n",
    "table = Table(table_name, metadata,\n",
    "              Column('ordem', String(9)),\n",
    "              Column('latitude', String(9)),\n",
    "              Column('longitude', String(9)),\n",
    "              Column('datahora', String(13)),\n",
    "              Column('velocidade', String(3)),\n",
    "              Column('linha', String(10)),\n",
    "              Column('datahoraenvio', String(13)),\n",
    "              Column('datahoraservidor', String(13))\n",
    "             )\n",
    "\n",
    "# Criar a tabela se ela não existir\n",
    "metadata.create_all(engine)\n",
    "logging.info(\"Tabela criada com sucesso (ou já existia).\")"
   ]
  },
  {
   "cell_type": "code",
   "execution_count": 7,
   "metadata": {},
   "outputs": [],
   "source": [
    "# Função para inserir dados na tabela\n",
    "def insert_data(file_path, engine, table_name,):\n",
    "    try:\n",
    "        # Ler o arquivo JSON\n",
    "        df = pd.read_json(file_path)\n",
    "        # Garantir que todos os dados sejam strings\n",
    "        df = df.astype(str)\n",
    "        # Inserir os dados no banco de dados\n",
    "        df.to_sql(table_name, engine, if_exists='append', index=False)\n",
    "        logging.info(f\"[SUCCESS] Dados inseridos no banco de dados a partir de: {file_path}\")\n",
    "    except Exception as e:\n",
    "        logging.error(f\"[FAILURE] Erro ao ler {file_path}: {e}\")"
   ]
  },
  {
   "cell_type": "code",
   "execution_count": 8,
   "metadata": {},
   "outputs": [],
   "source": [
    "# Percorrer o diretório e subdiretórios\n",
    "for root, dirs, files in os.walk(base_dir):\n",
    "    for file in files:\n",
    "        if file.startswith('2024') and file.endswith('json'):\n",
    "            file_path = os.path.join(root, file)\n",
    "            insert_data(file_path, engine, table_name)\n",
    "\n",
    "# Forçar a coleta de lixo para liberar memória não utilizada\n",
    "import gc\n",
    "gc.collect()\n"
   ]
  }
 ],
 "metadata": {
  "kernelspec": {
   "display_name": "Python 3",
   "language": "python",
   "name": "python3"
  },
  "language_info": {
   "codemirror_mode": {
    "name": "ipython",
    "version": 3
   },
   "file_extension": ".py",
   "mimetype": "text/x-python",
   "name": "python",
   "nbconvert_exporter": "python",
   "pygments_lexer": "ipython3",
   "version": "3.11.3"
  }
 },
 "nbformat": 4,
 "nbformat_minor": 2
}

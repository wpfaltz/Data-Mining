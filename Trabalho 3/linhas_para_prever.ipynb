{
 "cells": [
  {
   "cell_type": "code",
   "execution_count": 2,
   "metadata": {},
   "outputs": [],
   "source": [
    "import pandas as pd"
   ]
  },
  {
   "cell_type": "code",
   "execution_count": 3,
   "metadata": {},
   "outputs": [],
   "source": [
    "prever_data_hora = pd.read_csv(r'C:\\Users\\wpett\\Downloads\\Trabalho 3 - Data Mining\\linhas_para_prever_data_hora.csv')\n",
    "prever_lat_long = pd.read_csv(r'C:\\Users\\wpett\\Downloads\\Trabalho 3 - Data Mining\\linhas_para_prever_latitude_longitude.csv')"
   ]
  },
  {
   "cell_type": "code",
   "execution_count": 4,
   "metadata": {},
   "outputs": [
    {
     "data": {
      "text/plain": [
       "set()"
      ]
     },
     "execution_count": 4,
     "metadata": {},
     "output_type": "execute_result"
    }
   ],
   "source": [
    "set(prever_data_hora['linha']) - set(prever_lat_long['linha'])"
   ]
  },
  {
   "cell_type": "code",
   "execution_count": 5,
   "metadata": {},
   "outputs": [
    {
     "data": {
      "text/plain": [
       "set()"
      ]
     },
     "execution_count": 5,
     "metadata": {},
     "output_type": "execute_result"
    }
   ],
   "source": [
    "set(prever_lat_long['linha']) - set(prever_data_hora['linha'])"
   ]
  },
  {
   "cell_type": "code",
   "execution_count": 6,
   "metadata": {},
   "outputs": [
    {
     "data": {
      "text/plain": [
       "{3,\n",
       " 100,\n",
       " 108,\n",
       " 232,\n",
       " 292,\n",
       " 298,\n",
       " 309,\n",
       " 315,\n",
       " 324,\n",
       " 328,\n",
       " 343,\n",
       " 355,\n",
       " 371,\n",
       " 388,\n",
       " 397,\n",
       " 399,\n",
       " 415,\n",
       " 422,\n",
       " 457,\n",
       " 483,\n",
       " 497,\n",
       " 550,\n",
       " 553,\n",
       " 554,\n",
       " 557,\n",
       " 565,\n",
       " 606,\n",
       " 624,\n",
       " 629,\n",
       " 634,\n",
       " 638,\n",
       " 639,\n",
       " 665,\n",
       " 756,\n",
       " 759,\n",
       " 774,\n",
       " 779,\n",
       " 803,\n",
       " 838,\n",
       " 852,\n",
       " 864,\n",
       " 867,\n",
       " 878,\n",
       " 905,\n",
       " 917,\n",
       " 918,\n",
       " 2336,\n",
       " 2803}"
      ]
     },
     "execution_count": 6,
     "metadata": {},
     "output_type": "execute_result"
    }
   ],
   "source": [
    "set(prever_data_hora['linha'])"
   ]
  }
 ],
 "metadata": {
  "kernelspec": {
   "display_name": "Python 3",
   "language": "python",
   "name": "python3"
  },
  "language_info": {
   "codemirror_mode": {
    "name": "ipython",
    "version": 3
   },
   "file_extension": ".py",
   "mimetype": "text/x-python",
   "name": "python",
   "nbconvert_exporter": "python",
   "pygments_lexer": "ipython3",
   "version": "3.11.3"
  }
 },
 "nbformat": 4,
 "nbformat_minor": 2
}

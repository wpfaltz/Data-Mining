{
 "cells": [
  {
   "cell_type": "code",
   "execution_count": 1,
   "metadata": {},
   "outputs": [],
   "source": [
    "import os\n",
    "import json\n",
    "import csv"
   ]
  },
  {
   "cell_type": "markdown",
   "metadata": {},
   "source": [
    "# Conversor arquivos de treinamento"
   ]
  },
  {
   "cell_type": "code",
   "execution_count": 5,
   "metadata": {},
   "outputs": [],
   "source": [
    "def replace_commas_with_dots(value):\n",
    "    if isinstance(value, str):\n",
    "        return value.replace(',', '.')\n",
    "    return value\n",
    "\n",
    "def json_to_csv(json_file, csv_file):\n",
    "    with open(json_file, 'r') as file:\n",
    "        data = json.load(file)\n",
    "    \n",
    "    with open(csv_file, 'w', newline='') as file:\n",
    "        writer = csv.writer(file, delimiter='\\t')\n",
    "        \n",
    "        for item in data:\n",
    "            processed_item = {k: replace_commas_with_dots(v) for k, v in item.items()}\n",
    "            writer.writerow(processed_item.values())\n",
    "\n",
    "def convert_json_to_csv(directory):\n",
    "    for root, dirs, files in os.walk(directory):\n",
    "        for file in files:\n",
    "            if file.startswith('2024') and file.endswith('.json'):\n",
    "                json_file = os.path.join(root, file)\n",
    "                csv_file = os.path.splitext(json_file)[0] + '.csv'\n",
    "                json_to_csv(json_file, csv_file)\n",
    "\n",
    "# Specify the directory containing the JSON files\n",
    "directory = r'C:\\Users\\wpett\\Downloads\\Trabalho 3 - Data Mining'\n",
    "\n",
    "# Convert JSON files to CSV\n",
    "convert_json_to_csv(directory)\n"
   ]
  },
  {
   "cell_type": "markdown",
   "metadata": {},
   "source": [
    "# Comandos SQL arquivos de treinamento"
   ]
  },
  {
   "cell_type": "code",
   "execution_count": 3,
   "metadata": {},
   "outputs": [],
   "source": [
    "def generate_sql(directory, output_file):\n",
    "    sql_commands = []\n",
    "    \n",
    "    for root, _, files in os.walk(directory):\n",
    "        for file in files:\n",
    "            if file.startswith('2024') and file.endswith('.csv'):\n",
    "                file_path = os.path.join(root, file)\n",
    "                table_name = 'train_data'\n",
    "\n",
    "                file_path_escaped = file_path.replace('\\\\', '\\\\\\\\')\n",
    "                copy_table_sql = f'\\\\COPY \"{table_name}\" FROM ' + f\"'{file_path_escaped}';\"\n",
    "                \n",
    "                sql_commands.append(copy_table_sql)\n",
    "    \n",
    "    with open(output_file, 'w') as f:\n",
    "        for command in sql_commands:\n",
    "            f.write(command + '\\n')\n",
    "\n",
    "# Especifique o diretório inicial e o arquivo de saída\n",
    "directory = r'C:\\Users\\wpett\\Downloads\\Trabalho 3 - Data Mining'\n",
    "output_file = 'output.txt'\n",
    "\n",
    "generate_sql(directory, output_file)"
   ]
  },
  {
   "cell_type": "markdown",
   "metadata": {},
   "source": [
    "# Conversor arquivos validação previsão data_hora"
   ]
  },
  {
   "cell_type": "code",
   "execution_count": 2,
   "metadata": {},
   "outputs": [],
   "source": [
    "def replace_commas_with_dots(value):\n",
    "    if isinstance(value, str):\n",
    "        return value.replace(',', '.')\n",
    "    return value\n",
    "\n",
    "def json_to_csv(json_file, csv_file):\n",
    "    with open(json_file, 'r') as file:\n",
    "        data = json.load(file)\n",
    "    \n",
    "    with open(csv_file, 'w', newline='') as file:\n",
    "        writer = csv.writer(file, delimiter='\\t')\n",
    "        \n",
    "        for item in data:\n",
    "            processed_item = {k: replace_commas_with_dots(v) for k, v in item.items()}\n",
    "            writer.writerow(processed_item.values())\n",
    "\n",
    "predict_data_hora_json = ['treino-2024-05-11_08.json', 'treino-2024-05-11_18.json', 'treino-2024-05-11_23.json', 'treino-2024-05-12_09.json', 'treino-2024-05-12_19.json', 'treino-2024-05-13_08.json', 'treino-2024-05-13_18.json', 'treino-2024-05-13_23.json', 'treino-2024-05-14_09.json', 'treino-2024-05-14_19.json', 'treino-2024-05-15_08.json', 'treino-2024-05-15_18.json', 'treino-2024-05-15_23.json']\n",
    "\n",
    "def convert_json_to_csv(directory):\n",
    "    for root, dirs, files in os.walk(directory):\n",
    "        for file in files:\n",
    "            if file in predict_data_hora_json:\n",
    "                json_file = os.path.join(root, file)\n",
    "                csv_file = os.path.splitext(json_file)[0] + '.csv'\n",
    "                json_to_csv(json_file, csv_file)\n",
    "\n",
    "# Specify the directory containing the JSON files\n",
    "directory = r'C:\\Users\\wpett\\Downloads\\Trabalho 3 - Data Mining'\n",
    "\n",
    "# Convert JSON files to CSV\n",
    "convert_json_to_csv(directory)"
   ]
  },
  {
   "cell_type": "markdown",
   "metadata": {},
   "source": [
    "# Comandos SQL arquivos validação previsão data_hora"
   ]
  },
  {
   "cell_type": "code",
   "execution_count": 7,
   "metadata": {},
   "outputs": [],
   "source": [
    "predict_data_hora_csv = ['treino-2024-05-11_08.csv', 'treino-2024-05-11_18.csv', 'treino-2024-05-11_23.csv', 'treino-2024-05-12_09.csv', 'treino-2024-05-12_19.csv', 'treino-2024-05-13_08.csv', 'treino-2024-05-13_18.csv', 'treino-2024-05-13_23.csv', 'treino-2024-05-14_09.csv', 'treino-2024-05-14_19.csv', 'treino-2024-05-15_08.csv', 'treino-2024-05-15_18.csv', 'treino-2024-05-15_23.csv']\n",
    "\n",
    "def generate_sql(directory, output_file):\n",
    "    sql_commands = []\n",
    "    \n",
    "    for root, _, files in os.walk(directory):\n",
    "        for file in files:\n",
    "            if file in predict_data_hora_csv:\n",
    "                file_path = os.path.join(root, file)\n",
    "                table_name = 'val_data_hora'\n",
    "\n",
    "                file_path_escaped = file_path.replace('\\\\', '\\\\\\\\')\n",
    "                copy_table_sql = f'\\\\COPY \"{table_name}\" FROM ' + f\"'{file_path_escaped}';\"\n",
    "                \n",
    "                sql_commands.append(copy_table_sql)\n",
    "    \n",
    "    with open(output_file, 'w') as f:\n",
    "        for command in sql_commands:\n",
    "            f.write(command + '\\n')\n",
    "\n",
    "# Especifique o diretório inicial e o arquivo de saída\n",
    "directory = r'C:\\Users\\wpett\\Downloads\\Trabalho 3 - Data Mining'\n",
    "output_file = 'output_val_data_hora.txt'\n",
    "\n",
    "generate_sql(directory, output_file)"
   ]
  },
  {
   "cell_type": "markdown",
   "metadata": {},
   "source": [
    "# Conversor arquivos validação previsão latitude, longitude"
   ]
  },
  {
   "cell_type": "code",
   "execution_count": 9,
   "metadata": {},
   "outputs": [],
   "source": [
    "def replace_commas_with_dots(value):\n",
    "    if isinstance(value, str):\n",
    "        return value.replace(',', '.')\n",
    "    return value\n",
    "\n",
    "def json_to_csv(json_file, csv_file):\n",
    "    with open(json_file, 'r') as file:\n",
    "        data = json.load(file)\n",
    "    \n",
    "    with open(csv_file, 'w', newline='') as file:\n",
    "        writer = csv.writer(file, delimiter='\\t')\n",
    "        \n",
    "        for item in data:\n",
    "            processed_item = {k: replace_commas_with_dots(v) for k, v in item.items()}\n",
    "            writer.writerow(processed_item.values())\n",
    "\n",
    "predict_latitude_longitude_json = ['treino-2024-05-11_13.json', 'treino-2024-05-12_14.json', 'treino-2024-05-13_13.json', 'treino-2024-05-14_14.json', 'treino-2024-05-15_13.json']\n",
    "\n",
    "def convert_json_to_csv(directory):\n",
    "    for root, dirs, files in os.walk(directory):\n",
    "        for file in files:\n",
    "            if file in predict_latitude_longitude_json:\n",
    "                json_file = os.path.join(root, file)\n",
    "                csv_file = os.path.splitext(json_file)[0] + '.csv'\n",
    "                json_to_csv(json_file, csv_file)\n",
    "\n",
    "# Specify the directory containing the JSON files\n",
    "directory = r'C:\\Users\\wpett\\Downloads\\Trabalho 3 - Data Mining'\n",
    "\n",
    "# Convert JSON files to CSV\n",
    "convert_json_to_csv(directory)"
   ]
  },
  {
   "cell_type": "markdown",
   "metadata": {},
   "source": [
    "# Comandos SQL arquivos validação previsão latitude, longitude"
   ]
  },
  {
   "cell_type": "code",
   "execution_count": 11,
   "metadata": {},
   "outputs": [],
   "source": [
    "predict_latitude_longitude_csv = ['treino-2024-05-11_13.csv', 'treino-2024-05-12_14.csv', 'treino-2024-05-13_13.csv', 'treino-2024-05-14_14.csv', 'treino-2024-05-15_13.csv']\n",
    "\n",
    "def generate_sql(directory, output_file):\n",
    "    sql_commands = []\n",
    "    \n",
    "    for root, _, files in os.walk(directory):\n",
    "        for file in files:\n",
    "            if file in predict_latitude_longitude_csv:\n",
    "                file_path = os.path.join(root, file)\n",
    "                table_name = 'val_latitude_longitude'\n",
    "\n",
    "                file_path_escaped = file_path.replace('\\\\', '\\\\\\\\')\n",
    "                copy_table_sql = f'\\\\COPY \"{table_name}\" FROM ' + f\"'{file_path_escaped}';\"\n",
    "                \n",
    "                sql_commands.append(copy_table_sql)\n",
    "    \n",
    "    with open(output_file, 'w') as f:\n",
    "        for command in sql_commands:\n",
    "            f.write(command + '\\n')\n",
    "\n",
    "# Especifique o diretório inicial e o arquivo de saída\n",
    "directory = r'C:\\Users\\wpett\\Downloads\\Trabalho 3 - Data Mining'\n",
    "output_file = 'output_val_latitude_longitude.txt'\n",
    "\n",
    "generate_sql(directory, output_file)"
   ]
  }
 ],
 "metadata": {
  "kernelspec": {
   "display_name": ".venv",
   "language": "python",
   "name": "python3"
  },
  "language_info": {
   "codemirror_mode": {
    "name": "ipython",
    "version": 3
   },
   "file_extension": ".py",
   "mimetype": "text/x-python",
   "name": "python",
   "nbconvert_exporter": "python",
   "pygments_lexer": "ipython3",
   "version": "3.11.3"
  }
 },
 "nbformat": 4,
 "nbformat_minor": 2
}

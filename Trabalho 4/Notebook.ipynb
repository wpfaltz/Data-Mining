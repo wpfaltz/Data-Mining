{
 "cells": [
  {
   "cell_type": "markdown",
   "metadata": {},
   "source": [
    "# 1. Importando as bibliotecas"
   ]
  },
  {
   "cell_type": "code",
   "execution_count": 70,
   "metadata": {},
   "outputs": [],
   "source": [
    "import numpy as np\n",
    "import pandas as pd\n",
    "import matplotlib.pyplot as plt\n",
    "import matplotlib.cm as cm\n",
    "import seaborn as sns\n",
    "from sklearn.preprocessing import StandardScaler\n",
    "from sklearn.decomposition import PCA\n",
    "from sklearn.cluster import KMeans, DBSCAN, AgglomerativeClustering\n",
    "from sklearn.metrics import pairwise_distances, silhouette_score, silhouette_samples\n",
    "from scipy.cluster.hierarchy import dendrogram, linkage\n",
    "from scipy.spatial.distance import pdist, squareform\n",
    "from kneed import KneeLocator\n",
    "import requests\n",
    "import zipfile\n",
    "import io"
   ]
  },
  {
   "cell_type": "markdown",
   "metadata": {},
   "source": [
    "# 2. Baixando e carregando os dados"
   ]
  },
  {
   "cell_type": "markdown",
   "metadata": {},
   "source": [
    "URL dos dados"
   ]
  },
  {
   "cell_type": "code",
   "execution_count": 2,
   "metadata": {},
   "outputs": [],
   "source": [
    "data_url = \"https://files.grouplens.org/datasets/movielens/ml-1m.zip\""
   ]
  },
  {
   "cell_type": "markdown",
   "metadata": {},
   "source": [
    "Baixar e extrair o arquivo zip"
   ]
  },
  {
   "cell_type": "code",
   "execution_count": 3,
   "metadata": {},
   "outputs": [],
   "source": [
    "response = requests.get(data_url)\n",
    "with zipfile.ZipFile(io.BytesIO(response.content)) as zip_ref:\n",
    "    zip_ref.extractall(\"ml-1m\")"
   ]
  },
  {
   "cell_type": "markdown",
   "metadata": {},
   "source": [
    "Carregar os dados"
   ]
  },
  {
   "cell_type": "code",
   "execution_count": 4,
   "metadata": {},
   "outputs": [],
   "source": [
    "ratings = pd.read_csv('ml-1m/ml-1m/ratings.dat', sep='::', header=None, names=['user_id', 'movie_id', 'rating', 'timestamp'], engine='python')"
   ]
  },
  {
   "cell_type": "code",
   "execution_count": 5,
   "metadata": {},
   "outputs": [
    {
     "data": {
      "text/html": [
       "<div>\n",
       "<style scoped>\n",
       "    .dataframe tbody tr th:only-of-type {\n",
       "        vertical-align: middle;\n",
       "    }\n",
       "\n",
       "    .dataframe tbody tr th {\n",
       "        vertical-align: top;\n",
       "    }\n",
       "\n",
       "    .dataframe thead th {\n",
       "        text-align: right;\n",
       "    }\n",
       "</style>\n",
       "<table border=\"1\" class=\"dataframe\">\n",
       "  <thead>\n",
       "    <tr style=\"text-align: right;\">\n",
       "      <th></th>\n",
       "      <th>user_id</th>\n",
       "      <th>movie_id</th>\n",
       "      <th>rating</th>\n",
       "      <th>timestamp</th>\n",
       "    </tr>\n",
       "  </thead>\n",
       "  <tbody>\n",
       "    <tr>\n",
       "      <th>0</th>\n",
       "      <td>1</td>\n",
       "      <td>1193</td>\n",
       "      <td>5</td>\n",
       "      <td>978300760</td>\n",
       "    </tr>\n",
       "    <tr>\n",
       "      <th>1</th>\n",
       "      <td>1</td>\n",
       "      <td>661</td>\n",
       "      <td>3</td>\n",
       "      <td>978302109</td>\n",
       "    </tr>\n",
       "    <tr>\n",
       "      <th>2</th>\n",
       "      <td>1</td>\n",
       "      <td>914</td>\n",
       "      <td>3</td>\n",
       "      <td>978301968</td>\n",
       "    </tr>\n",
       "    <tr>\n",
       "      <th>3</th>\n",
       "      <td>1</td>\n",
       "      <td>3408</td>\n",
       "      <td>4</td>\n",
       "      <td>978300275</td>\n",
       "    </tr>\n",
       "    <tr>\n",
       "      <th>4</th>\n",
       "      <td>1</td>\n",
       "      <td>2355</td>\n",
       "      <td>5</td>\n",
       "      <td>978824291</td>\n",
       "    </tr>\n",
       "  </tbody>\n",
       "</table>\n",
       "</div>"
      ],
      "text/plain": [
       "   user_id  movie_id  rating  timestamp\n",
       "0        1      1193       5  978300760\n",
       "1        1       661       3  978302109\n",
       "2        1       914       3  978301968\n",
       "3        1      3408       4  978300275\n",
       "4        1      2355       5  978824291"
      ]
     },
     "execution_count": 5,
     "metadata": {},
     "output_type": "execute_result"
    }
   ],
   "source": [
    "ratings.head()"
   ]
  },
  {
   "cell_type": "code",
   "execution_count": 6,
   "metadata": {},
   "outputs": [],
   "source": [
    "movies = pd.read_csv('ml-1m/ml-1m/movies.dat', sep='::', header=None, names=['movie_id', 'title', 'genres'], engine='python', encoding='latin1')"
   ]
  },
  {
   "cell_type": "code",
   "execution_count": 7,
   "metadata": {},
   "outputs": [
    {
     "data": {
      "text/html": [
       "<div>\n",
       "<style scoped>\n",
       "    .dataframe tbody tr th:only-of-type {\n",
       "        vertical-align: middle;\n",
       "    }\n",
       "\n",
       "    .dataframe tbody tr th {\n",
       "        vertical-align: top;\n",
       "    }\n",
       "\n",
       "    .dataframe thead th {\n",
       "        text-align: right;\n",
       "    }\n",
       "</style>\n",
       "<table border=\"1\" class=\"dataframe\">\n",
       "  <thead>\n",
       "    <tr style=\"text-align: right;\">\n",
       "      <th></th>\n",
       "      <th>movie_id</th>\n",
       "      <th>title</th>\n",
       "      <th>genres</th>\n",
       "    </tr>\n",
       "  </thead>\n",
       "  <tbody>\n",
       "    <tr>\n",
       "      <th>0</th>\n",
       "      <td>1</td>\n",
       "      <td>Toy Story (1995)</td>\n",
       "      <td>Animation|Children's|Comedy</td>\n",
       "    </tr>\n",
       "    <tr>\n",
       "      <th>1</th>\n",
       "      <td>2</td>\n",
       "      <td>Jumanji (1995)</td>\n",
       "      <td>Adventure|Children's|Fantasy</td>\n",
       "    </tr>\n",
       "    <tr>\n",
       "      <th>2</th>\n",
       "      <td>3</td>\n",
       "      <td>Grumpier Old Men (1995)</td>\n",
       "      <td>Comedy|Romance</td>\n",
       "    </tr>\n",
       "    <tr>\n",
       "      <th>3</th>\n",
       "      <td>4</td>\n",
       "      <td>Waiting to Exhale (1995)</td>\n",
       "      <td>Comedy|Drama</td>\n",
       "    </tr>\n",
       "    <tr>\n",
       "      <th>4</th>\n",
       "      <td>5</td>\n",
       "      <td>Father of the Bride Part II (1995)</td>\n",
       "      <td>Comedy</td>\n",
       "    </tr>\n",
       "  </tbody>\n",
       "</table>\n",
       "</div>"
      ],
      "text/plain": [
       "   movie_id                               title                        genres\n",
       "0         1                    Toy Story (1995)   Animation|Children's|Comedy\n",
       "1         2                      Jumanji (1995)  Adventure|Children's|Fantasy\n",
       "2         3             Grumpier Old Men (1995)                Comedy|Romance\n",
       "3         4            Waiting to Exhale (1995)                  Comedy|Drama\n",
       "4         5  Father of the Bride Part II (1995)                        Comedy"
      ]
     },
     "execution_count": 7,
     "metadata": {},
     "output_type": "execute_result"
    }
   ],
   "source": [
    "movies.head()"
   ]
  },
  {
   "cell_type": "code",
   "execution_count": 8,
   "metadata": {},
   "outputs": [
    {
     "data": {
      "text/html": [
       "<div>\n",
       "<style scoped>\n",
       "    .dataframe tbody tr th:only-of-type {\n",
       "        vertical-align: middle;\n",
       "    }\n",
       "\n",
       "    .dataframe tbody tr th {\n",
       "        vertical-align: top;\n",
       "    }\n",
       "\n",
       "    .dataframe thead th {\n",
       "        text-align: right;\n",
       "    }\n",
       "</style>\n",
       "<table border=\"1\" class=\"dataframe\">\n",
       "  <thead>\n",
       "    <tr style=\"text-align: right;\">\n",
       "      <th></th>\n",
       "      <th>movie_id</th>\n",
       "      <th>title</th>\n",
       "      <th>genres</th>\n",
       "    </tr>\n",
       "  </thead>\n",
       "  <tbody>\n",
       "    <tr>\n",
       "      <th>0</th>\n",
       "      <td>1</td>\n",
       "      <td>Toy Story (1995)</td>\n",
       "      <td>Animation,Children's,Comedy</td>\n",
       "    </tr>\n",
       "    <tr>\n",
       "      <th>1</th>\n",
       "      <td>2</td>\n",
       "      <td>Jumanji (1995)</td>\n",
       "      <td>Adventure,Children's,Fantasy</td>\n",
       "    </tr>\n",
       "    <tr>\n",
       "      <th>2</th>\n",
       "      <td>3</td>\n",
       "      <td>Grumpier Old Men (1995)</td>\n",
       "      <td>Comedy,Romance</td>\n",
       "    </tr>\n",
       "    <tr>\n",
       "      <th>3</th>\n",
       "      <td>4</td>\n",
       "      <td>Waiting to Exhale (1995)</td>\n",
       "      <td>Comedy,Drama</td>\n",
       "    </tr>\n",
       "    <tr>\n",
       "      <th>4</th>\n",
       "      <td>5</td>\n",
       "      <td>Father of the Bride Part II (1995)</td>\n",
       "      <td>Comedy</td>\n",
       "    </tr>\n",
       "  </tbody>\n",
       "</table>\n",
       "</div>"
      ],
      "text/plain": [
       "   movie_id                               title                        genres\n",
       "0         1                    Toy Story (1995)   Animation,Children's,Comedy\n",
       "1         2                      Jumanji (1995)  Adventure,Children's,Fantasy\n",
       "2         3             Grumpier Old Men (1995)                Comedy,Romance\n",
       "3         4            Waiting to Exhale (1995)                  Comedy,Drama\n",
       "4         5  Father of the Bride Part II (1995)                        Comedy"
      ]
     },
     "execution_count": 8,
     "metadata": {},
     "output_type": "execute_result"
    }
   ],
   "source": [
    "movies['genres'] = movies['genres'].str.replace('|', ',')\n",
    "movies.head()"
   ]
  },
  {
   "cell_type": "code",
   "execution_count": 9,
   "metadata": {},
   "outputs": [],
   "source": [
    "users = pd.read_csv('ml-1m/ml-1m/users.dat', sep='::', header=None, names=['user_id', 'gender', 'age', 'occupation', 'zip_code'], engine='python')"
   ]
  },
  {
   "cell_type": "code",
   "execution_count": 10,
   "metadata": {},
   "outputs": [
    {
     "data": {
      "text/html": [
       "<div>\n",
       "<style scoped>\n",
       "    .dataframe tbody tr th:only-of-type {\n",
       "        vertical-align: middle;\n",
       "    }\n",
       "\n",
       "    .dataframe tbody tr th {\n",
       "        vertical-align: top;\n",
       "    }\n",
       "\n",
       "    .dataframe thead th {\n",
       "        text-align: right;\n",
       "    }\n",
       "</style>\n",
       "<table border=\"1\" class=\"dataframe\">\n",
       "  <thead>\n",
       "    <tr style=\"text-align: right;\">\n",
       "      <th></th>\n",
       "      <th>user_id</th>\n",
       "      <th>gender</th>\n",
       "      <th>age</th>\n",
       "      <th>occupation</th>\n",
       "      <th>zip_code</th>\n",
       "    </tr>\n",
       "  </thead>\n",
       "  <tbody>\n",
       "    <tr>\n",
       "      <th>0</th>\n",
       "      <td>1</td>\n",
       "      <td>F</td>\n",
       "      <td>1</td>\n",
       "      <td>10</td>\n",
       "      <td>48067</td>\n",
       "    </tr>\n",
       "    <tr>\n",
       "      <th>1</th>\n",
       "      <td>2</td>\n",
       "      <td>M</td>\n",
       "      <td>56</td>\n",
       "      <td>16</td>\n",
       "      <td>70072</td>\n",
       "    </tr>\n",
       "    <tr>\n",
       "      <th>2</th>\n",
       "      <td>3</td>\n",
       "      <td>M</td>\n",
       "      <td>25</td>\n",
       "      <td>15</td>\n",
       "      <td>55117</td>\n",
       "    </tr>\n",
       "    <tr>\n",
       "      <th>3</th>\n",
       "      <td>4</td>\n",
       "      <td>M</td>\n",
       "      <td>45</td>\n",
       "      <td>7</td>\n",
       "      <td>02460</td>\n",
       "    </tr>\n",
       "    <tr>\n",
       "      <th>4</th>\n",
       "      <td>5</td>\n",
       "      <td>M</td>\n",
       "      <td>25</td>\n",
       "      <td>20</td>\n",
       "      <td>55455</td>\n",
       "    </tr>\n",
       "  </tbody>\n",
       "</table>\n",
       "</div>"
      ],
      "text/plain": [
       "   user_id gender  age  occupation zip_code\n",
       "0        1      F    1          10    48067\n",
       "1        2      M   56          16    70072\n",
       "2        3      M   25          15    55117\n",
       "3        4      M   45           7    02460\n",
       "4        5      M   25          20    55455"
      ]
     },
     "execution_count": 10,
     "metadata": {},
     "output_type": "execute_result"
    }
   ],
   "source": [
    "users.head()"
   ]
  },
  {
   "cell_type": "markdown",
   "metadata": {},
   "source": [
    "# 3. Análise exploratória dos dados"
   ]
  },
  {
   "cell_type": "markdown",
   "metadata": {},
   "source": [
    "Valores nulos"
   ]
  },
  {
   "cell_type": "code",
   "execution_count": 11,
   "metadata": {},
   "outputs": [
    {
     "data": {
      "text/plain": [
       "movie_id    0\n",
       "title       0\n",
       "genres      0\n",
       "dtype: int64"
      ]
     },
     "execution_count": 11,
     "metadata": {},
     "output_type": "execute_result"
    }
   ],
   "source": [
    "movies.isnull().sum()"
   ]
  },
  {
   "cell_type": "code",
   "execution_count": 12,
   "metadata": {},
   "outputs": [
    {
     "data": {
      "text/plain": [
       "user_id      0\n",
       "movie_id     0\n",
       "rating       0\n",
       "timestamp    0\n",
       "dtype: int64"
      ]
     },
     "execution_count": 12,
     "metadata": {},
     "output_type": "execute_result"
    }
   ],
   "source": [
    "ratings.isnull().sum()"
   ]
  },
  {
   "cell_type": "code",
   "execution_count": 13,
   "metadata": {},
   "outputs": [
    {
     "data": {
      "text/plain": [
       "user_id       0\n",
       "gender        0\n",
       "age           0\n",
       "occupation    0\n",
       "zip_code      0\n",
       "dtype: int64"
      ]
     },
     "execution_count": 13,
     "metadata": {},
     "output_type": "execute_result"
    }
   ],
   "source": [
    "users.isnull().sum()"
   ]
  },
  {
   "cell_type": "markdown",
   "metadata": {},
   "source": [
    "Informações básicas"
   ]
  },
  {
   "cell_type": "code",
   "execution_count": 14,
   "metadata": {},
   "outputs": [
    {
     "name": "stdout",
     "output_type": "stream",
     "text": [
      "Total de avaliações: 1000209\n",
      "Total de filmes cadastrados: 3883\n",
      "Total de usuários: 6040\n",
      "Número de usuários que fizeram alguma avaliação: 6040\n",
      "Número de filmes que receberam alguma avaliação: 3706\n"
     ]
    }
   ],
   "source": [
    "print(f'Total de avaliações: {ratings.shape[0]}')\n",
    "print(f'Total de filmes cadastrados: {movies.shape[0]}')\n",
    "print(f'Total de usuários: {users.shape[0]}')\n",
    "print(f'Número de usuários que fizeram alguma avaliação: {ratings[\"user_id\"].nunique()}')\n",
    "print(f'Número de filmes que receberam alguma avaliação: {ratings[\"movie_id\"].nunique()}')"
   ]
  },
  {
   "cell_type": "markdown",
   "metadata": {},
   "source": [
    "Quais filmes foram avaliados?"
   ]
  },
  {
   "cell_type": "code",
   "execution_count": 15,
   "metadata": {},
   "outputs": [
    {
     "data": {
      "text/html": [
       "<div>\n",
       "<style scoped>\n",
       "    .dataframe tbody tr th:only-of-type {\n",
       "        vertical-align: middle;\n",
       "    }\n",
       "\n",
       "    .dataframe tbody tr th {\n",
       "        vertical-align: top;\n",
       "    }\n",
       "\n",
       "    .dataframe thead th {\n",
       "        text-align: right;\n",
       "    }\n",
       "</style>\n",
       "<table border=\"1\" class=\"dataframe\">\n",
       "  <thead>\n",
       "    <tr style=\"text-align: right;\">\n",
       "      <th></th>\n",
       "      <th>movie_id</th>\n",
       "      <th>title</th>\n",
       "      <th>genres</th>\n",
       "    </tr>\n",
       "  </thead>\n",
       "  <tbody>\n",
       "    <tr>\n",
       "      <th>0</th>\n",
       "      <td>1</td>\n",
       "      <td>Toy Story (1995)</td>\n",
       "      <td>Animation,Children's,Comedy</td>\n",
       "    </tr>\n",
       "    <tr>\n",
       "      <th>1</th>\n",
       "      <td>2</td>\n",
       "      <td>Jumanji (1995)</td>\n",
       "      <td>Adventure,Children's,Fantasy</td>\n",
       "    </tr>\n",
       "    <tr>\n",
       "      <th>2</th>\n",
       "      <td>3</td>\n",
       "      <td>Grumpier Old Men (1995)</td>\n",
       "      <td>Comedy,Romance</td>\n",
       "    </tr>\n",
       "    <tr>\n",
       "      <th>3</th>\n",
       "      <td>4</td>\n",
       "      <td>Waiting to Exhale (1995)</td>\n",
       "      <td>Comedy,Drama</td>\n",
       "    </tr>\n",
       "    <tr>\n",
       "      <th>4</th>\n",
       "      <td>5</td>\n",
       "      <td>Father of the Bride Part II (1995)</td>\n",
       "      <td>Comedy</td>\n",
       "    </tr>\n",
       "    <tr>\n",
       "      <th>...</th>\n",
       "      <td>...</td>\n",
       "      <td>...</td>\n",
       "      <td>...</td>\n",
       "    </tr>\n",
       "    <tr>\n",
       "      <th>3878</th>\n",
       "      <td>3948</td>\n",
       "      <td>Meet the Parents (2000)</td>\n",
       "      <td>Comedy</td>\n",
       "    </tr>\n",
       "    <tr>\n",
       "      <th>3879</th>\n",
       "      <td>3949</td>\n",
       "      <td>Requiem for a Dream (2000)</td>\n",
       "      <td>Drama</td>\n",
       "    </tr>\n",
       "    <tr>\n",
       "      <th>3880</th>\n",
       "      <td>3950</td>\n",
       "      <td>Tigerland (2000)</td>\n",
       "      <td>Drama</td>\n",
       "    </tr>\n",
       "    <tr>\n",
       "      <th>3881</th>\n",
       "      <td>3951</td>\n",
       "      <td>Two Family House (2000)</td>\n",
       "      <td>Drama</td>\n",
       "    </tr>\n",
       "    <tr>\n",
       "      <th>3882</th>\n",
       "      <td>3952</td>\n",
       "      <td>Contender, The (2000)</td>\n",
       "      <td>Drama,Thriller</td>\n",
       "    </tr>\n",
       "  </tbody>\n",
       "</table>\n",
       "<p>3706 rows × 3 columns</p>\n",
       "</div>"
      ],
      "text/plain": [
       "      movie_id                               title  \\\n",
       "0            1                    Toy Story (1995)   \n",
       "1            2                      Jumanji (1995)   \n",
       "2            3             Grumpier Old Men (1995)   \n",
       "3            4            Waiting to Exhale (1995)   \n",
       "4            5  Father of the Bride Part II (1995)   \n",
       "...        ...                                 ...   \n",
       "3878      3948             Meet the Parents (2000)   \n",
       "3879      3949          Requiem for a Dream (2000)   \n",
       "3880      3950                    Tigerland (2000)   \n",
       "3881      3951             Two Family House (2000)   \n",
       "3882      3952               Contender, The (2000)   \n",
       "\n",
       "                            genres  \n",
       "0      Animation,Children's,Comedy  \n",
       "1     Adventure,Children's,Fantasy  \n",
       "2                   Comedy,Romance  \n",
       "3                     Comedy,Drama  \n",
       "4                           Comedy  \n",
       "...                            ...  \n",
       "3878                        Comedy  \n",
       "3879                         Drama  \n",
       "3880                         Drama  \n",
       "3881                         Drama  \n",
       "3882                Drama,Thriller  \n",
       "\n",
       "[3706 rows x 3 columns]"
      ]
     },
     "execution_count": 15,
     "metadata": {},
     "output_type": "execute_result"
    }
   ],
   "source": [
    "movies_reviewed = movies[movies['movie_id'].isin(ratings['movie_id'])].copy()\n",
    "movies_reviewed"
   ]
  },
  {
   "cell_type": "code",
   "execution_count": 16,
   "metadata": {},
   "outputs": [
    {
     "data": {
      "text/html": [
       "<div>\n",
       "<style scoped>\n",
       "    .dataframe tbody tr th:only-of-type {\n",
       "        vertical-align: middle;\n",
       "    }\n",
       "\n",
       "    .dataframe tbody tr th {\n",
       "        vertical-align: top;\n",
       "    }\n",
       "\n",
       "    .dataframe thead th {\n",
       "        text-align: right;\n",
       "    }\n",
       "</style>\n",
       "<table border=\"1\" class=\"dataframe\">\n",
       "  <thead>\n",
       "    <tr style=\"text-align: right;\">\n",
       "      <th></th>\n",
       "      <th>movie_id</th>\n",
       "      <th>title</th>\n",
       "      <th>genres</th>\n",
       "      <th>movie_id_true</th>\n",
       "    </tr>\n",
       "  </thead>\n",
       "  <tbody>\n",
       "    <tr>\n",
       "      <th>0</th>\n",
       "      <td>1</td>\n",
       "      <td>Toy Story (1995)</td>\n",
       "      <td>Animation,Children's,Comedy</td>\n",
       "      <td>1</td>\n",
       "    </tr>\n",
       "    <tr>\n",
       "      <th>1</th>\n",
       "      <td>2</td>\n",
       "      <td>Jumanji (1995)</td>\n",
       "      <td>Adventure,Children's,Fantasy</td>\n",
       "      <td>2</td>\n",
       "    </tr>\n",
       "    <tr>\n",
       "      <th>2</th>\n",
       "      <td>3</td>\n",
       "      <td>Grumpier Old Men (1995)</td>\n",
       "      <td>Comedy,Romance</td>\n",
       "      <td>3</td>\n",
       "    </tr>\n",
       "    <tr>\n",
       "      <th>3</th>\n",
       "      <td>4</td>\n",
       "      <td>Waiting to Exhale (1995)</td>\n",
       "      <td>Comedy,Drama</td>\n",
       "      <td>4</td>\n",
       "    </tr>\n",
       "    <tr>\n",
       "      <th>4</th>\n",
       "      <td>5</td>\n",
       "      <td>Father of the Bride Part II (1995)</td>\n",
       "      <td>Comedy</td>\n",
       "      <td>5</td>\n",
       "    </tr>\n",
       "    <tr>\n",
       "      <th>...</th>\n",
       "      <td>...</td>\n",
       "      <td>...</td>\n",
       "      <td>...</td>\n",
       "      <td>...</td>\n",
       "    </tr>\n",
       "    <tr>\n",
       "      <th>3878</th>\n",
       "      <td>3948</td>\n",
       "      <td>Meet the Parents (2000)</td>\n",
       "      <td>Comedy</td>\n",
       "      <td>3702</td>\n",
       "    </tr>\n",
       "    <tr>\n",
       "      <th>3879</th>\n",
       "      <td>3949</td>\n",
       "      <td>Requiem for a Dream (2000)</td>\n",
       "      <td>Drama</td>\n",
       "      <td>3703</td>\n",
       "    </tr>\n",
       "    <tr>\n",
       "      <th>3880</th>\n",
       "      <td>3950</td>\n",
       "      <td>Tigerland (2000)</td>\n",
       "      <td>Drama</td>\n",
       "      <td>3704</td>\n",
       "    </tr>\n",
       "    <tr>\n",
       "      <th>3881</th>\n",
       "      <td>3951</td>\n",
       "      <td>Two Family House (2000)</td>\n",
       "      <td>Drama</td>\n",
       "      <td>3705</td>\n",
       "    </tr>\n",
       "    <tr>\n",
       "      <th>3882</th>\n",
       "      <td>3952</td>\n",
       "      <td>Contender, The (2000)</td>\n",
       "      <td>Drama,Thriller</td>\n",
       "      <td>3706</td>\n",
       "    </tr>\n",
       "  </tbody>\n",
       "</table>\n",
       "<p>3706 rows × 4 columns</p>\n",
       "</div>"
      ],
      "text/plain": [
       "      movie_id                               title  \\\n",
       "0            1                    Toy Story (1995)   \n",
       "1            2                      Jumanji (1995)   \n",
       "2            3             Grumpier Old Men (1995)   \n",
       "3            4            Waiting to Exhale (1995)   \n",
       "4            5  Father of the Bride Part II (1995)   \n",
       "...        ...                                 ...   \n",
       "3878      3948             Meet the Parents (2000)   \n",
       "3879      3949          Requiem for a Dream (2000)   \n",
       "3880      3950                    Tigerland (2000)   \n",
       "3881      3951             Two Family House (2000)   \n",
       "3882      3952               Contender, The (2000)   \n",
       "\n",
       "                            genres  movie_id_true  \n",
       "0      Animation,Children's,Comedy              1  \n",
       "1     Adventure,Children's,Fantasy              2  \n",
       "2                   Comedy,Romance              3  \n",
       "3                     Comedy,Drama              4  \n",
       "4                           Comedy              5  \n",
       "...                            ...            ...  \n",
       "3878                        Comedy           3702  \n",
       "3879                         Drama           3703  \n",
       "3880                         Drama           3704  \n",
       "3881                         Drama           3705  \n",
       "3882                Drama,Thriller           3706  \n",
       "\n",
       "[3706 rows x 4 columns]"
      ]
     },
     "execution_count": 16,
     "metadata": {},
     "output_type": "execute_result"
    }
   ],
   "source": [
    "movies_reviewed['movie_id_true'] = range(1, len(movies_reviewed)+1)\n",
    "movies_reviewed"
   ]
  },
  {
   "cell_type": "code",
   "execution_count": 17,
   "metadata": {},
   "outputs": [
    {
     "data": {
      "text/html": [
       "<div>\n",
       "<style scoped>\n",
       "    .dataframe tbody tr th:only-of-type {\n",
       "        vertical-align: middle;\n",
       "    }\n",
       "\n",
       "    .dataframe tbody tr th {\n",
       "        vertical-align: top;\n",
       "    }\n",
       "\n",
       "    .dataframe thead th {\n",
       "        text-align: right;\n",
       "    }\n",
       "</style>\n",
       "<table border=\"1\" class=\"dataframe\">\n",
       "  <thead>\n",
       "    <tr style=\"text-align: right;\">\n",
       "      <th></th>\n",
       "      <th>user_id</th>\n",
       "      <th>movie_id</th>\n",
       "      <th>rating</th>\n",
       "      <th>timestamp</th>\n",
       "      <th>movie_id_true</th>\n",
       "    </tr>\n",
       "  </thead>\n",
       "  <tbody>\n",
       "    <tr>\n",
       "      <th>0</th>\n",
       "      <td>1</td>\n",
       "      <td>1193</td>\n",
       "      <td>5</td>\n",
       "      <td>978300760</td>\n",
       "      <td>1105</td>\n",
       "    </tr>\n",
       "    <tr>\n",
       "      <th>1</th>\n",
       "      <td>1</td>\n",
       "      <td>661</td>\n",
       "      <td>3</td>\n",
       "      <td>978302109</td>\n",
       "      <td>640</td>\n",
       "    </tr>\n",
       "    <tr>\n",
       "      <th>2</th>\n",
       "      <td>1</td>\n",
       "      <td>914</td>\n",
       "      <td>3</td>\n",
       "      <td>978301968</td>\n",
       "      <td>854</td>\n",
       "    </tr>\n",
       "    <tr>\n",
       "      <th>3</th>\n",
       "      <td>1</td>\n",
       "      <td>3408</td>\n",
       "      <td>4</td>\n",
       "      <td>978300275</td>\n",
       "      <td>3178</td>\n",
       "    </tr>\n",
       "    <tr>\n",
       "      <th>4</th>\n",
       "      <td>1</td>\n",
       "      <td>2355</td>\n",
       "      <td>5</td>\n",
       "      <td>978824291</td>\n",
       "      <td>2163</td>\n",
       "    </tr>\n",
       "    <tr>\n",
       "      <th>...</th>\n",
       "      <td>...</td>\n",
       "      <td>...</td>\n",
       "      <td>...</td>\n",
       "      <td>...</td>\n",
       "      <td>...</td>\n",
       "    </tr>\n",
       "    <tr>\n",
       "      <th>1000204</th>\n",
       "      <td>6040</td>\n",
       "      <td>1091</td>\n",
       "      <td>1</td>\n",
       "      <td>956716541</td>\n",
       "      <td>1020</td>\n",
       "    </tr>\n",
       "    <tr>\n",
       "      <th>1000205</th>\n",
       "      <td>6040</td>\n",
       "      <td>1094</td>\n",
       "      <td>5</td>\n",
       "      <td>956704887</td>\n",
       "      <td>1023</td>\n",
       "    </tr>\n",
       "    <tr>\n",
       "      <th>1000206</th>\n",
       "      <td>6040</td>\n",
       "      <td>562</td>\n",
       "      <td>5</td>\n",
       "      <td>956704746</td>\n",
       "      <td>549</td>\n",
       "    </tr>\n",
       "    <tr>\n",
       "      <th>1000207</th>\n",
       "      <td>6040</td>\n",
       "      <td>1096</td>\n",
       "      <td>4</td>\n",
       "      <td>956715648</td>\n",
       "      <td>1025</td>\n",
       "    </tr>\n",
       "    <tr>\n",
       "      <th>1000208</th>\n",
       "      <td>6040</td>\n",
       "      <td>1097</td>\n",
       "      <td>4</td>\n",
       "      <td>956715569</td>\n",
       "      <td>1026</td>\n",
       "    </tr>\n",
       "  </tbody>\n",
       "</table>\n",
       "<p>1000209 rows × 5 columns</p>\n",
       "</div>"
      ],
      "text/plain": [
       "         user_id  movie_id  rating  timestamp  movie_id_true\n",
       "0              1      1193       5  978300760           1105\n",
       "1              1       661       3  978302109            640\n",
       "2              1       914       3  978301968            854\n",
       "3              1      3408       4  978300275           3178\n",
       "4              1      2355       5  978824291           2163\n",
       "...          ...       ...     ...        ...            ...\n",
       "1000204     6040      1091       1  956716541           1020\n",
       "1000205     6040      1094       5  956704887           1023\n",
       "1000206     6040       562       5  956704746            549\n",
       "1000207     6040      1096       4  956715648           1025\n",
       "1000208     6040      1097       4  956715569           1026\n",
       "\n",
       "[1000209 rows x 5 columns]"
      ]
     },
     "execution_count": 17,
     "metadata": {},
     "output_type": "execute_result"
    }
   ],
   "source": [
    "ratings = ratings.merge(movies_reviewed[['movie_id', 'movie_id_true']], on='movie_id', how='left')\n",
    "ratings"
   ]
  },
  {
   "cell_type": "code",
   "execution_count": 18,
   "metadata": {},
   "outputs": [
    {
     "data": {
      "text/plain": [
       "3706"
      ]
     },
     "execution_count": 18,
     "metadata": {},
     "output_type": "execute_result"
    }
   ],
   "source": [
    "num_movies = movies_reviewed['movie_id_true'].nunique()\n",
    "num_movies"
   ]
  },
  {
   "cell_type": "markdown",
   "metadata": {},
   "source": [
    "Distribuição das avaliações"
   ]
  },
  {
   "cell_type": "code",
   "execution_count": 19,
   "metadata": {},
   "outputs": [
    {
     "data": {
      "image/png": "[encoded data removed]",
      "text/plain": [
       "<Figure size 800x600 with 1 Axes>"
      ]
     },
     "metadata": {},
     "output_type": "display_data"
    }
   ],
   "source": [
    "plt.figure(figsize=(8, 6))\n",
    "sns.countplot(x='rating', data=ratings)\n",
    "plt.title('Distribuição das Avaliações')\n",
    "plt.xlabel('Avaliação')\n",
    "plt.ylabel('Contagem')\n",
    "plt.show()"
   ]
  },
  {
   "cell_type": "markdown",
   "metadata": {},
   "source": [
    "Distribuição dos gêneros"
   ]
  },
  {
   "cell_type": "code",
   "execution_count": 20,
   "metadata": {},
   "outputs": [
    {
     "name": "stderr",
     "output_type": "stream",
     "text": [
      "C:\\Users\\wpett\\AppData\\Local\\Temp\\ipykernel_22716\\3043812017.py:5: FutureWarning: \n",
      "\n",
      "Passing `palette` without assigning `hue` is deprecated and will be removed in v0.14.0. Assign the `y` variable to `hue` and set `legend=False` for the same effect.\n",
      "\n",
      "  sns.barplot(x=genre_counts.values, y=genre_counts.index, orient='h', palette='viridis')\n"
     ]
    },
    {
     "data": {
      "image/png": "[encoded data removed]",
      "text/plain": [
       "<Figure size 1200x800 with 1 Axes>"
      ]
     },
     "metadata": {},
     "output_type": "display_data"
    }
   ],
   "source": [
    "genres = movies['genres'].str.split(',').explode()\n",
    "genres_list = genres.unique()\n",
    "genre_counts = genres.value_counts()\n",
    "plt.figure(figsize=(12, 8))\n",
    "sns.barplot(x=genre_counts.values, y=genre_counts.index, orient='h', palette='viridis')\n",
    "plt.title('Distribuição dos Gêneros')\n",
    "plt.xlabel('Contagem')\n",
    "plt.ylabel('Gênero')\n",
    "plt.show()"
   ]
  },
  {
   "cell_type": "markdown",
   "metadata": {},
   "source": [
    "Quantidade de filmes por ano"
   ]
  },
  {
   "cell_type": "code",
   "execution_count": 21,
   "metadata": {},
   "outputs": [
    {
     "name": "stderr",
     "output_type": "stream",
     "text": [
      "C:\\Users\\wpett\\AppData\\Local\\Temp\\ipykernel_22716\\4137072900.py:10: FutureWarning: \n",
      "\n",
      "Passing `palette` without assigning `hue` is deprecated and will be removed in v0.14.0. Assign the `x` variable to `hue` and set `legend=False` for the same effect.\n",
      "\n",
      "  sns.barplot(x=movies_years_count.index, y=movies_years_count.values, palette=\"viridis\")\n"
     ]
    },
    {
     "data": {
      "image/png": "[encoded data removed]",
      "text/plain": [
       "<Figure size 1400x800 with 1 Axes>"
      ]
     },
     "metadata": {},
     "output_type": "display_data"
    }
   ],
   "source": [
    "# Extrair o ano de lançamento do título do filme\n",
    "movies['year'] = movies['title'].str.extract(r'\\((\\d{4})\\)')\n",
    "\n",
    "# Verificar a distribuição dos anos\n",
    "movies['year'] = movies['year'].astype(int)\n",
    "movies_years_count = movies['year'].value_counts().sort_index()\n",
    "\n",
    "# Plotar a quantidade de filmes por ano\n",
    "plt.figure(figsize=(14, 8))\n",
    "sns.barplot(x=movies_years_count.index, y=movies_years_count.values, palette=\"viridis\")\n",
    "plt.title('Quantidade de Filmes por Ano')\n",
    "plt.xlabel('Ano')\n",
    "plt.ylabel('Quantidade de Filmes')\n",
    "plt.xticks(rotation=90)\n",
    "plt.show()"
   ]
  },
  {
   "cell_type": "markdown",
   "metadata": {},
   "source": [
    "# 4. Pré-processamento dos dados"
   ]
  },
  {
   "cell_type": "markdown",
   "metadata": {},
   "source": [
    "Algum usuário avaliou algum filme mais de uma vez?"
   ]
  },
  {
   "cell_type": "code",
   "execution_count": 22,
   "metadata": {},
   "outputs": [
    {
     "name": "stdout",
     "output_type": "stream",
     "text": [
      "Número de vezes que um usuário avaliou um filme mais de uma vez: 0\n"
     ]
    }
   ],
   "source": [
    "duplicated_ratings = ratings.duplicated(subset=['user_id', 'movie_id'])\n",
    "num_duplicated_ratings = duplicated_ratings.sum()\n",
    "print(f'Número de vezes que um usuário avaliou um filme mais de uma vez: {num_duplicated_ratings}')"
   ]
  },
  {
   "cell_type": "markdown",
   "metadata": {},
   "source": [
    "Há algum filme duplicado?"
   ]
  },
  {
   "cell_type": "code",
   "execution_count": 23,
   "metadata": {},
   "outputs": [
    {
     "name": "stdout",
     "output_type": "stream",
     "text": [
      "Filmes duplicados: 0\n"
     ]
    }
   ],
   "source": [
    "duplicated_movies = movies.duplicated()\n",
    "num_duplicated_movies = duplicated_movies.sum()\n",
    "print(f'Filmes duplicados: {num_duplicated_movies}')"
   ]
  },
  {
   "cell_type": "markdown",
   "metadata": {},
   "source": [
    "Criando a matriz de classificação, onde as linhas são os filmes e as colunas são as avaliações"
   ]
  },
  {
   "cell_type": "code",
   "execution_count": 24,
   "metadata": {},
   "outputs": [
    {
     "data": {
      "text/plain": [
       "array([[0., 0., 0., ..., 0., 0., 0.],\n",
       "       [0., 0., 0., ..., 0., 0., 0.],\n",
       "       [0., 0., 0., ..., 0., 0., 0.],\n",
       "       ...,\n",
       "       [0., 0., 0., ..., 0., 0., 0.],\n",
       "       [0., 0., 0., ..., 0., 0., 0.],\n",
       "       [0., 0., 0., ..., 0., 0., 0.]])"
      ]
     },
     "execution_count": 24,
     "metadata": {},
     "output_type": "execute_result"
    }
   ],
   "source": [
    "ratings_matrix = np.empty((movies_reviewed.shape[0], users.shape[0]))\n",
    "ratings_matrix"
   ]
  },
  {
   "cell_type": "code",
   "execution_count": 25,
   "metadata": {},
   "outputs": [
    {
     "data": {
      "text/plain": [
       "array([[nan, nan, nan, ..., nan, nan, nan],\n",
       "       [nan, nan, nan, ..., nan, nan, nan],\n",
       "       [nan, nan, nan, ..., nan, nan, nan],\n",
       "       ...,\n",
       "       [nan, nan, nan, ..., nan, nan, nan],\n",
       "       [nan, nan, nan, ..., nan, nan, nan],\n",
       "       [nan, nan, nan, ..., nan, nan, nan]])"
      ]
     },
     "execution_count": 25,
     "metadata": {},
     "output_type": "execute_result"
    }
   ],
   "source": [
    "ratings_matrix[:] = np.nan\n",
    "ratings_matrix"
   ]
  },
  {
   "cell_type": "code",
   "execution_count": 26,
   "metadata": {},
   "outputs": [
    {
     "data": {
      "text/plain": [
       "array([[ 5., nan, nan, ..., nan, nan,  3.],\n",
       "       [nan, nan, nan, ..., nan, nan, nan],\n",
       "       [nan, nan, nan, ..., nan, nan, nan],\n",
       "       ...,\n",
       "       [nan, nan, nan, ..., nan, nan, nan],\n",
       "       [nan, nan, nan, ..., nan, nan, nan],\n",
       "       [nan, nan, nan, ..., nan, nan, nan]])"
      ]
     },
     "execution_count": 26,
     "metadata": {},
     "output_type": "execute_result"
    }
   ],
   "source": [
    "for index, row in ratings.iterrows():\n",
    "    ratings_matrix[row['movie_id_true']-1][row['user_id']-1] = row['rating']\n",
    "\n",
    "ratings_matrix"
   ]
  },
  {
   "cell_type": "code",
   "execution_count": 27,
   "metadata": {},
   "outputs": [
    {
     "data": {
      "text/plain": [
       "(3706, 6040)"
      ]
     },
     "execution_count": 27,
     "metadata": {},
     "output_type": "execute_result"
    }
   ],
   "source": [
    "ratings_matrix.shape"
   ]
  },
  {
   "cell_type": "code",
   "execution_count": 28,
   "metadata": {},
   "outputs": [],
   "source": [
    "def replace_nans_with_row_mean(matrix):\n",
    "    for i in range(matrix.shape[0]):\n",
    "        row = matrix[i, :]\n",
    "        mean_value = np.nanmean(row)\n",
    "        row[np.isnan(row)] = mean_value\n",
    "    return matrix"
   ]
  },
  {
   "cell_type": "code",
   "execution_count": 29,
   "metadata": {},
   "outputs": [
    {
     "data": {
      "text/plain": [
       "array([[5.        , 4.14684641, 4.14684641, ..., 4.14684641, 4.14684641,\n",
       "        3.        ],\n",
       "       [3.20114123, 3.20114123, 3.20114123, ..., 3.20114123, 3.20114123,\n",
       "        3.20114123],\n",
       "       [3.0167364 , 3.0167364 , 3.0167364 , ..., 3.0167364 , 3.0167364 ,\n",
       "        3.0167364 ],\n",
       "       ...,\n",
       "       [3.66666667, 3.66666667, 3.66666667, ..., 3.66666667, 3.66666667,\n",
       "        3.66666667],\n",
       "       [3.9       , 3.9       , 3.9       , ..., 3.9       , 3.9       ,\n",
       "        3.9       ],\n",
       "       [3.78092784, 3.78092784, 3.78092784, ..., 3.78092784, 3.78092784,\n",
       "        3.78092784]])"
      ]
     },
     "execution_count": 29,
     "metadata": {},
     "output_type": "execute_result"
    }
   ],
   "source": [
    "ratings_matrix = replace_nans_with_row_mean(ratings_matrix)\n",
    "ratings_matrix"
   ]
  },
  {
   "cell_type": "markdown",
   "metadata": {},
   "source": [
    "Aparentemente, alguns filmes tiveram a mesma nota para todos os usuários, fazendo com que o desvio padrão seja 0. Por isso, irei atribuir um valor nulo nesses casos."
   ]
  },
  {
   "cell_type": "code",
   "execution_count": 30,
   "metadata": {},
   "outputs": [],
   "source": [
    "def normalize_row(row):\n",
    "    mean = np.mean(row)\n",
    "    std = np.std(row)\n",
    "    mean = np.nanmean(row)\n",
    "    std = np.nanstd(row)\n",
    "    if std == 0:\n",
    "        return np.zeros_like(row)  # Substituir por zeros se o desvio padrão for zero\n",
    "    return (row - mean) / std\n",
    "    return (row - mean) / std"
   ]
  },
  {
   "cell_type": "code",
   "execution_count": 31,
   "metadata": {},
   "outputs": [
    {
     "data": {
      "text/plain": [
       "array([[ 1.70731838e+00,  1.77740956e-15,  1.77740956e-15, ...,\n",
       "         1.77740956e-15,  1.77740956e-15, -2.29505214e+00],\n",
       "       [ 0.00000000e+00,  0.00000000e+00,  0.00000000e+00, ...,\n",
       "         0.00000000e+00,  0.00000000e+00,  0.00000000e+00],\n",
       "       [ 0.00000000e+00,  0.00000000e+00,  0.00000000e+00, ...,\n",
       "         0.00000000e+00,  0.00000000e+00,  0.00000000e+00],\n",
       "       ...,\n",
       "       [ 4.53184131e-15,  4.53184131e-15,  4.53184131e-15, ...,\n",
       "         4.53184131e-15,  4.53184131e-15,  4.53184131e-15],\n",
       "       [ 5.22691510e-15,  5.22691510e-15,  5.22691510e-15, ...,\n",
       "         5.22691510e-15,  5.22691510e-15,  5.22691510e-15],\n",
       "       [ 5.62870295e-15,  5.62870295e-15,  5.62870295e-15, ...,\n",
       "         5.62870295e-15,  5.62870295e-15,  5.62870295e-15]])"
      ]
     },
     "execution_count": 31,
     "metadata": {},
     "output_type": "execute_result"
    }
   ],
   "source": [
    "ratings_matrix_normalized = np.apply_along_axis(normalize_row, 1, ratings_matrix)\n",
    "ratings_matrix_normalized"
   ]
  },
  {
   "cell_type": "code",
   "execution_count": 32,
   "metadata": {},
   "outputs": [
    {
     "name": "stdout",
     "output_type": "stream",
     "text": [
      "Número total de NaNs: 0\n"
     ]
    }
   ],
   "source": [
    "total_nans = np.isnan(ratings_matrix_normalized).sum()\n",
    "print(f\"Número total de NaNs: {total_nans}\")"
   ]
  },
  {
   "cell_type": "markdown",
   "metadata": {},
   "source": [
    "# 5. Cálculo das Matrizes de Distâncias"
   ]
  },
  {
   "cell_type": "markdown",
   "metadata": {},
   "source": [
    "Criando a matriz de distância"
   ]
  },
  {
   "cell_type": "code",
   "execution_count": 33,
   "metadata": {},
   "outputs": [],
   "source": [
    "dist_matrix = pdist(ratings_matrix_normalized, metric='euclidean')"
   ]
  },
  {
   "cell_type": "markdown",
   "metadata": {},
   "source": [
    "Fazendo a matriz de distância filme-filme"
   ]
  },
  {
   "cell_type": "code",
   "execution_count": 34,
   "metadata": {},
   "outputs": [],
   "source": [
    "square_dist_matrix = squareform(dist_matrix)"
   ]
  },
  {
   "cell_type": "code",
   "execution_count": 35,
   "metadata": {},
   "outputs": [
    {
     "data": {
      "text/plain": [
       "array([[  0.        , 105.69494673, 107.3649446 , ..., 109.17594079,\n",
       "        109.26922304, 108.33532832],\n",
       "       [105.69494673,   0.        , 107.94088516, ..., 110.57554306,\n",
       "        110.26061826, 109.60542063],\n",
       "       [107.3649446 , 107.94088516,   0.        , ..., 108.46084939,\n",
       "        108.92857814, 109.09574796],\n",
       "       ...,\n",
       "       [109.17594079, 110.57554306, 108.46084939, ...,   0.        ,\n",
       "        107.70125075, 106.18090639],\n",
       "       [109.26922304, 110.26061826, 108.92857814, ..., 107.70125075,\n",
       "          0.        , 103.6646929 ],\n",
       "       [108.33532832, 109.60542063, 109.09574796, ..., 106.18090639,\n",
       "        103.6646929 ,   0.        ]])"
      ]
     },
     "execution_count": 35,
     "metadata": {},
     "output_type": "execute_result"
    }
   ],
   "source": [
    "square_dist_matrix"
   ]
  },
  {
   "cell_type": "markdown",
   "metadata": {},
   "source": [
    "# 6. Aplicações dos algoritmos de clusterização"
   ]
  },
  {
   "cell_type": "markdown",
   "metadata": {},
   "source": [
    "## 6.1. K-Means"
   ]
  },
  {
   "cell_type": "markdown",
   "metadata": {},
   "source": [
    "Vamos utilizar como base a teoria apresentada no livro \"Mãos à Obra: Aprendizado de Máquina com Scikit-Learn, Keras & Tensorflow\" do autor Aurélien Géron, 2a ed. \n",
    "\n",
    "O autor menciona que, quando não temos nenhuma ideia de qual o número de clusters que devemos utilizar, um bom caminho é plotarmos o gráfico da inércia em função do número de clusters e buscarmos o ponto de inflexão chamado \"cotovelo\". Vamos primeiro definir os argumentos que serão comuns e plotaremos o gráfico com o número de clusters variando de 2 até 100"
   ]
  },
  {
   "cell_type": "code",
   "execution_count": 36,
   "metadata": {},
   "outputs": [],
   "source": [
    "kmeans_kwargs = {\n",
    "    'init': 'random',\n",
    "    'n_init': 10,\n",
    "    'max_iter': 300,\n",
    "    'random_state': 42\n",
    "}"
   ]
  },
  {
   "cell_type": "code",
   "execution_count": 46,
   "metadata": {},
   "outputs": [
    {
     "name": "stdout",
     "output_type": "stream",
     "text": [
      "2\n",
      "3\n",
      "4\n",
      "5\n",
      "6\n",
      "7\n",
      "8\n",
      "9\n",
      "10\n",
      "11\n",
      "12\n",
      "13\n",
      "14\n",
      "15\n",
      "16\n",
      "17\n",
      "18\n",
      "19\n",
      "20\n",
      "21\n",
      "22\n",
      "23\n",
      "24\n",
      "25\n",
      "26\n",
      "27\n",
      "28\n",
      "29\n",
      "30\n",
      "31\n",
      "32\n",
      "33\n",
      "34\n",
      "35\n",
      "36\n",
      "37\n",
      "38\n",
      "39\n",
      "40\n",
      "41\n",
      "42\n",
      "43\n",
      "44\n",
      "45\n",
      "46\n",
      "47\n",
      "48\n",
      "49\n",
      "50\n",
      "51\n",
      "52\n",
      "53\n",
      "54\n",
      "55\n",
      "56\n",
      "57\n",
      "58\n",
      "59\n",
      "60\n",
      "61\n",
      "62\n",
      "63\n",
      "64\n",
      "65\n",
      "66\n",
      "67\n",
      "68\n",
      "69\n",
      "70\n",
      "71\n",
      "72\n",
      "73\n",
      "74\n",
      "75\n",
      "76\n",
      "77\n",
      "78\n",
      "79\n",
      "80\n",
      "81\n",
      "82\n",
      "83\n",
      "84\n",
      "85\n",
      "86\n",
      "87\n",
      "88\n",
      "89\n",
      "90\n",
      "91\n",
      "92\n",
      "93\n",
      "94\n",
      "95\n",
      "96\n",
      "97\n",
      "98\n",
      "99\n"
     ]
    }
   ],
   "source": [
    "inertias = []\n",
    "silhouette_avg_scores = []\n",
    "for k in range(2, 100):\n",
    "    clusterer = KMeans(n_clusters=k, **kmeans_kwargs)\n",
    "    cluster_labels = clusterer.fit_predict(ratings_matrix_normalized)\n",
    "    inertias.append(clusterer.inertia_)\n",
    "    silhouette_avg_scores.append(silhouette_score(ratings_matrix_normalized, cluster_labels))\n",
    "    print(k)"
   ]
  },
  {
   "cell_type": "code",
   "execution_count": 47,
   "metadata": {},
   "outputs": [
    {
     "data": {
      "image/png": "[encoded data removed]",
      "text/plain": [
       "<Figure size 640x480 with 1 Axes>"
      ]
     },
     "metadata": {},
     "output_type": "display_data"
    }
   ],
   "source": [
    "plt.style.use(\"fivethirtyeight\")\n",
    "plt.plot(range(2, 100), inertias)\n",
    "plt.xticks(range(2, 100, 5))\n",
    "plt.xlabel(\"Number of Clusters\")\n",
    "plt.ylabel(\"Inertia\")\n",
    "plt.show()"
   ]
  },
  {
   "cell_type": "code",
   "execution_count": 48,
   "metadata": {},
   "outputs": [
    {
     "data": {
      "image/png": "[encoded data removed]",
      "text/plain": [
       "<Figure size 640x480 with 1 Axes>"
      ]
     },
     "metadata": {},
     "output_type": "display_data"
    }
   ],
   "source": [
    "plt.style.use(\"fivethirtyeight\")\n",
    "plt.plot(range(2, 100), silhouette_avg_scores)\n",
    "plt.xticks(range(2, 100, 5))\n",
    "plt.xlabel(\"Number of Clusters\")\n",
    "plt.ylabel(\"Silhouette Score\")\n",
    "plt.show()"
   ]
  },
  {
   "cell_type": "code",
   "execution_count": 51,
   "metadata": {},
   "outputs": [
    {
     "data": {
      "text/plain": [
       "25"
      ]
     },
     "execution_count": 51,
     "metadata": {},
     "output_type": "execute_result"
    }
   ],
   "source": [
    "KneeLocator(range(2,100), inertias, curve='convex', direction='decreasing').elbow"
   ]
  },
  {
   "cell_type": "markdown",
   "metadata": {},
   "source": [
    "Vamos analisar os clusters para n_clusters = 25 e 26"
   ]
  },
  {
   "cell_type": "code",
   "execution_count": 80,
   "metadata": {},
   "outputs": [],
   "source": [
    "clusterer = KMeans(n_clusters=25, **kmeans_kwargs)\n",
    "k_means_cluster_labels = clusterer.fit_predict(ratings_matrix_normalized)"
   ]
  },
  {
   "cell_type": "code",
   "execution_count": 81,
   "metadata": {},
   "outputs": [],
   "source": [
    "movies_reviewed['kmeans_cluster'] = k_means_cluster_labels"
   ]
  },
  {
   "cell_type": "code",
   "execution_count": 82,
   "metadata": {},
   "outputs": [
    {
     "name": "stdout",
     "output_type": "stream",
     "text": [
      "Filmes em cada cluster formado: \n",
      " kmeans_cluster\n",
      "3     568\n",
      "16    282\n",
      "23    263\n",
      "19    215\n",
      "22    211\n",
      "0     171\n",
      "5     154\n",
      "24    153\n",
      "1     149\n",
      "6     138\n",
      "7     137\n",
      "12    133\n",
      "15    130\n",
      "14    124\n",
      "11    110\n",
      "13     99\n",
      "9      94\n",
      "20     89\n",
      "8      85\n",
      "21     84\n",
      "17     79\n",
      "4      70\n",
      "2      66\n",
      "10     57\n",
      "18     45\n",
      "Name: count, dtype: int64\n"
     ]
    }
   ],
   "source": [
    "cluster_counts = movies_reviewed['kmeans_cluster'].value_counts()\n",
    "print('Filmes em cada cluster formado: \\n', cluster_counts)"
   ]
  },
  {
   "cell_type": "code",
   "execution_count": 83,
   "metadata": {},
   "outputs": [],
   "source": [
    "def plot_silhouette(ratings_matrix_normalized, k_means_cluster_labels, n_clusters):\n",
    "    # Calcular a média do coeficiente de Silhouette\n",
    "    silhouette_avg = silhouette_score(ratings_matrix_normalized, k_means_cluster_labels)\n",
    "    print(f'Para n_clusters = {n_clusters}, a média do coeficiente de Silhouette é: {silhouette_avg}')\n",
    "    \n",
    "    # Calcular os coeficientes de Silhouette para cada ponto\n",
    "    sample_silhouette_values = silhouette_samples(ratings_matrix_normalized, k_means_cluster_labels)\n",
    "\n",
    "    fig, ax1 = plt.subplots(1, 1)\n",
    "    fig.set_size_inches(18, 7)\n",
    "\n",
    "    # O subplot para o gráfico de Silhouette\n",
    "    ax1.set_xlim([-0.1, 1])\n",
    "    ax1.set_ylim([0, len(ratings_matrix_normalized) + (n_clusters + 1) * 10])\n",
    "\n",
    "    y_lower = 10\n",
    "    for i in range(n_clusters):\n",
    "        # Coeficientes de Silhouette para os pontos do cluster i\n",
    "        ith_cluster_silhouette_values = sample_silhouette_values[k_means_cluster_labels == i]\n",
    "        ith_cluster_silhouette_values.sort()\n",
    "\n",
    "        size_cluster_i = ith_cluster_silhouette_values.shape[0]\n",
    "        y_upper = y_lower + size_cluster_i\n",
    "\n",
    "        color = cm.nipy_spectral(float(i) / n_clusters)\n",
    "        ax1.fill_betweenx(np.arange(y_lower, y_upper), 0, ith_cluster_silhouette_values,\n",
    "                          facecolor=color, edgecolor=color, alpha=0.7)\n",
    "\n",
    "        # Rotular os gráficos de Silhouette com os números dos clusters no meio\n",
    "        ax1.text(-0.05, y_lower + 0.5 * size_cluster_i, str(i))\n",
    "\n",
    "        # Atualizar y_lower para o próximo plot\n",
    "        y_lower = y_upper + 10\n",
    "\n",
    "    ax1.set_title(\"O gráfico de Silhouette para os vários clusters.\")\n",
    "    ax1.set_xlabel(\"Valores do coeficiente de Silhouette\")\n",
    "    ax1.set_ylabel(\"Rótulo do cluster\")\n",
    "\n",
    "    # Linha vertical para a média do coeficiente de Silhouette de todos os valores\n",
    "    ax1.axvline(x=silhouette_avg, color=\"red\", linestyle=\"--\")\n",
    "\n",
    "    ax1.set_yticks([])  # Limpar os rótulos / ticks do eixo y\n",
    "    ax1.set_xticks(np.arange(-0.1, 1.1, 0.2))\n",
    "\n",
    "    plt.show()"
   ]
  },
  {
   "cell_type": "code",
   "execution_count": 84,
   "metadata": {},
   "outputs": [
    {
     "name": "stdout",
     "output_type": "stream",
     "text": [
      "Para n_clusters = 25, a média do coeficiente de Silhouette é: -0.01423123176919605\n"
     ]
    },
    {
     "data": {
      "image/png": "[encoded data removed]",
      "text/plain": [
       "<Figure size 1800x700 with 1 Axes>"
      ]
     },
     "metadata": {},
     "output_type": "display_data"
    }
   ],
   "source": [
    "plot_silhouette(ratings_matrix_normalized, k_means_cluster_labels, 25)"
   ]
  },
  {
   "cell_type": "code",
   "execution_count": 85,
   "metadata": {},
   "outputs": [],
   "source": [
    "clusterer = KMeans(n_clusters=26, **kmeans_kwargs)\n",
    "k_means_cluster_labels = clusterer.fit_predict(ratings_matrix_normalized)"
   ]
  },
  {
   "cell_type": "code",
   "execution_count": 86,
   "metadata": {},
   "outputs": [],
   "source": [
    "movies_reviewed['kmeans_cluster'] = k_means_cluster_labels"
   ]
  },
  {
   "cell_type": "code",
   "execution_count": 87,
   "metadata": {},
   "outputs": [
    {
     "name": "stdout",
     "output_type": "stream",
     "text": [
      "Filmes em cada cluster formado: \n",
      " kmeans_cluster\n",
      "4     562\n",
      "13    380\n",
      "14    250\n",
      "23    211\n",
      "15    210\n",
      "24    189\n",
      "16    165\n",
      "12    157\n",
      "0     135\n",
      "20    126\n",
      "10    123\n",
      "8     118\n",
      "5     116\n",
      "1     113\n",
      "11    106\n",
      "18    100\n",
      "19     96\n",
      "7      85\n",
      "17     82\n",
      "2      74\n",
      "25     69\n",
      "22     57\n",
      "6      55\n",
      "3      45\n",
      "9      43\n",
      "21     39\n",
      "Name: count, dtype: int64\n"
     ]
    }
   ],
   "source": [
    "cluster_counts = movies_reviewed['kmeans_cluster'].value_counts()\n",
    "\n",
    "print('Filmes em cada cluster formado: \\n', cluster_counts)"
   ]
  },
  {
   "cell_type": "code",
   "execution_count": 88,
   "metadata": {},
   "outputs": [
    {
     "name": "stdout",
     "output_type": "stream",
     "text": [
      "Para n_clusters = 26, a média do coeficiente de Silhouette é: -0.01537644151089866\n"
     ]
    },
    {
     "data": {
      "image/png": "[encoded data removed]",
      "text/plain": [
       "<Figure size 1800x700 with 1 Axes>"
      ]
     },
     "metadata": {},
     "output_type": "display_data"
    }
   ],
   "source": [
    "plot_silhouette(ratings_matrix_normalized, k_means_cluster_labels, 26)"
   ]
  },
  {
   "cell_type": "markdown",
   "metadata": {},
   "source": [
    "Por aparentemente não ter muita diferença, seguiremos com n_clusters = 26"
   ]
  },
  {
   "cell_type": "markdown",
   "metadata": {},
   "source": [
    "## 6.2. Clustering Hierárquico"
   ]
  },
  {
   "cell_type": "markdown",
   "metadata": {},
   "source": [
    "Aqui vamos utilizar um número de clusters semelhante ao KMeans"
   ]
  },
  {
   "cell_type": "code",
   "execution_count": 89,
   "metadata": {},
   "outputs": [],
   "source": [
    "hierarchical_clustering = AgglomerativeClustering(n_clusters=26, metric='precomputed', linkage='complete')\n",
    "hierarchical__clustering_labels = hierarchical_clustering.fit_predict(square_dist_matrix)"
   ]
  },
  {
   "cell_type": "code",
   "execution_count": 91,
   "metadata": {},
   "outputs": [
    {
     "data": {
      "text/plain": [
       "3706"
      ]
     },
     "execution_count": 91,
     "metadata": {},
     "output_type": "execute_result"
    }
   ],
   "source": [
    "len(hierarchical__clustering_labels)"
   ]
  },
  {
   "cell_type": "code",
   "execution_count": 92,
   "metadata": {},
   "outputs": [],
   "source": [
    "movies_reviewed['hierarchical_cluster'] = hierarchical__clustering_labels"
   ]
  },
  {
   "cell_type": "code",
   "execution_count": 94,
   "metadata": {},
   "outputs": [
    {
     "name": "stdout",
     "output_type": "stream",
     "text": [
      "Filmes em cada cluster formado: \n",
      " hierarchical_cluster\n",
      "5     638\n",
      "2     430\n",
      "24    318\n",
      "4     236\n",
      "1     211\n",
      "3     192\n",
      "8     166\n",
      "10    161\n",
      "0     160\n",
      "19    157\n",
      "6     145\n",
      "21    119\n",
      "11     95\n",
      "9      91\n",
      "17     80\n",
      "14     73\n",
      "7      69\n",
      "18     67\n",
      "13     48\n",
      "23     46\n",
      "20     41\n",
      "16     39\n",
      "15     39\n",
      "22     38\n",
      "12     29\n",
      "25     18\n",
      "Name: count, dtype: int64\n"
     ]
    }
   ],
   "source": [
    "cluster_counts = movies_reviewed['hierarchical_cluster'].value_counts()\n",
    "print('Filmes em cada cluster formado: \\n', cluster_counts)"
   ]
  },
  {
   "cell_type": "markdown",
   "metadata": {},
   "source": [
    "## 6.3. DBscan"
   ]
  },
  {
   "cell_type": "code",
   "execution_count": 123,
   "metadata": {},
   "outputs": [],
   "source": [
    "dbscan_clusterer = DBSCAN(eps=20, min_samples=2, metric='precomputed')\n",
    "dbscan_labels = dbscan_clusterer.fit_predict(square_dist_matrix)"
   ]
  },
  {
   "cell_type": "code",
   "execution_count": 125,
   "metadata": {},
   "outputs": [],
   "source": [
    "movies_reviewed['dbscan_cluster'] = dbscan_labels"
   ]
  },
  {
   "cell_type": "code",
   "execution_count": 124,
   "metadata": {},
   "outputs": [
    {
     "data": {
      "text/plain": [
       "(array([-1,  0,  1,  2], dtype=int64),\n",
       " array([3556,  146,    2,    2], dtype=int64))"
      ]
     },
     "execution_count": 124,
     "metadata": {},
     "output_type": "execute_result"
    }
   ],
   "source": [
    "np.unique(dbscan_labels, return_counts=True)"
   ]
  },
  {
   "cell_type": "markdown",
   "metadata": {},
   "source": [
    "Não sei bem o que concluir a partir disto"
   ]
  },
  {
   "cell_type": "markdown",
   "metadata": {},
   "source": [
    "# 7. Análise dos clusters"
   ]
  },
  {
   "cell_type": "code",
   "execution_count": 128,
   "metadata": {},
   "outputs": [],
   "source": [
    "unique_genres = set()\n",
    "for genres in movies['genres']:\n",
    "    for genre in genres:\n",
    "        unique_genres.add(genre)"
   ]
  },
  {
   "cell_type": "code",
   "execution_count": 129,
   "metadata": {},
   "outputs": [
    {
     "data": {
      "text/plain": [
       "{'Action',\n",
       " 'Adventure',\n",
       " 'Animation',\n",
       " \"Children's\",\n",
       " 'Comedy',\n",
       " 'Crime',\n",
       " 'Documentary',\n",
       " 'Drama',\n",
       " 'Fantasy',\n",
       " 'Film-Noir',\n",
       " 'Horror',\n",
       " 'Musical',\n",
       " 'Mystery',\n",
       " 'Romance',\n",
       " 'Sci-Fi',\n",
       " 'Thriller',\n",
       " 'War',\n",
       " 'Western'}"
      ]
     },
     "execution_count": 129,
     "metadata": {},
     "output_type": "execute_result"
    }
   ],
   "source": [
    "unique_genres = set()\n",
    "for genres in movies['genres']:\n",
    "    for genre in genres.split(','):\n",
    "        unique_genres.add(genre.strip())\n",
    "unique_genres"
   ]
  },
  {
   "cell_type": "markdown",
   "metadata": {},
   "source": [
    "## 7.1 K-Means"
   ]
  },
  {
   "cell_type": "code",
   "execution_count": 131,
   "metadata": {},
   "outputs": [],
   "source": [
    "cluster_main_gender_kmeans = {}"
   ]
  },
  {
   "cell_type": "code",
   "execution_count": 132,
   "metadata": {},
   "outputs": [],
   "source": [
    "for cluster in movies_reviewed['kmeans_cluster'].unique():\n",
    "    cluster_df = movies_reviewed[movies_reviewed['kmeans_cluster'] == cluster]\n",
    "    \n",
    "    genre_counts = {genre: 0 for genre in unique_genres}\n",
    "    \n",
    "    cluster_total_movies = len(cluster_df)\n",
    "    for genres in cluster_df['genres'].dropna():\n",
    "        for genre in genres.split(','):\n",
    "            if genre in genre_counts:\n",
    "                genre_counts[genre] += 1\n",
    "    \n",
    "    if genre_counts:\n",
    "        main_gender = max(genre_counts, key=genre_counts.get)\n",
    "        percentage = (genre_counts[main_gender] / cluster_total_movies) * 100\n",
    "    else:\n",
    "        main_gender = None  \n",
    "    \n",
    "    cluster_main_gender_kmeans[cluster] = (main_gender, percentage)"
   ]
  },
  {
   "cell_type": "code",
   "execution_count": 134,
   "metadata": {},
   "outputs": [
    {
     "data": {
      "text/plain": [
       "{5: (\"Children's\", 94.82758620689656),\n",
       " 24: ('Comedy', 53.96825396825397),\n",
       " 14: ('Comedy', 91.60000000000001),\n",
       " 11: ('Drama', 33.9622641509434),\n",
       " 13: ('Drama', 65.0),\n",
       " 15: ('Action', 82.38095238095238),\n",
       " 18: ('Action', 81.0),\n",
       " 25: ('Drama', 42.028985507246375),\n",
       " 17: ('Drama', 47.5609756097561),\n",
       " 4: ('Drama', 44.83985765124555),\n",
       " 23: ('Drama', 59.241706161137444),\n",
       " 9: ('Drama', 83.72093023255815),\n",
       " 19: ('Romance', 48.95833333333333),\n",
       " 8: ('Drama', 98.30508474576271),\n",
       " 22: ('Musical', 47.368421052631575),\n",
       " 1: ('Horror', 58.4070796460177),\n",
       " 2: ('Drama', 52.702702702702695),\n",
       " 10: ('Drama', 70.73170731707317),\n",
       " 20: ('Action', 35.714285714285715),\n",
       " 12: ('Drama', 37.57961783439491),\n",
       " 7: ('Drama', 49.411764705882355),\n",
       " 3: ('Comedy', 46.666666666666664),\n",
       " 21: ('Drama', 69.23076923076923),\n",
       " 0: ('Horror', 89.62962962962962),\n",
       " 16: ('Drama', 39.39393939393939),\n",
       " 6: ('Horror', 50.90909090909091)}"
      ]
     },
     "execution_count": 134,
     "metadata": {},
     "output_type": "execute_result"
    }
   ],
   "source": [
    "cluster_main_gender_kmeans"
   ]
  },
  {
   "cell_type": "markdown",
   "metadata": {},
   "source": [
    "É possível ver que foi possível obter clusters bem razoáveis para filmes infantis, de comédia, drama e terror"
   ]
  },
  {
   "cell_type": "markdown",
   "metadata": {},
   "source": [
    "Vamos definir algumas sagas famosas e ver em que clusters elas foram classificadas"
   ]
  },
  {
   "cell_type": "code",
   "execution_count": 142,
   "metadata": {},
   "outputs": [],
   "source": [
    "def print_sagas_in_clusters(df, cluster_col):\n",
    "    rocky_saga_movies = ['Rocky (1976)', 'Rocky II (1979)', 'Rocky III (1982)', 'Rocky IV (1985)', 'Rocky V (1990)']\n",
    "    karate_kid_saga_movies = ['Karate Kid, The (1984)', 'Karate Kid, Part II, The (1986)', 'Karate Kid III, The (1989)']\n",
    "    superman_saga_movies  = ['Superman (1978)', 'Superman II (1980)', 'Superman III (1983)', 'Superman IV: The Quest for Peace (1987)']\n",
    "    batman_saga_movies = ['Batman Forever (1995)', 'Batman (1989)', 'Batman Returns (1992)', 'Batman & Robin (1997)']\n",
    "    godfather_saga_movies = ['Godfather: Part III, The (1990)', 'Godfather: Part II, The (1974)', 'Godfather, The (1972)']\n",
    "    starwars_saga_movies = ['Star Wars: Episode I - The Phantom Menace (1999)', 'Star Wars: Episode VI - Return of the Jedi (1983)', 'Star Wars: Episode V - The Empire Strikes Back (1980)', 'Star Wars: Episode IV - A New Hope (1977)']\n",
    "    startrek_saga_movies = ['Star Trek: First Contact (1996)', 'Star Trek: The Motion Picture (1979)', 'Star Trek VI: The Undiscovered Country (1991)', 'Star Trek V: The Final Frontier (1989)', 'Star Trek: The Wrath of Khan (1982)', 'Star Trek III: The Search for Spock (1984)', 'Star Trek IV: The Voyage Home (1986)', 'Star Trek: Insurrection (1998)']\n",
    "    all_saga_movies = {\n",
    "        \"Rocky Movies\": rocky_saga_movies,\n",
    "        \"Karate Kid Movies\": karate_kid_saga_movies,\n",
    "        \"Superman Movies\": superman_saga_movies,\n",
    "        \"Batman Movies\": batman_saga_movies,\n",
    "        \"Godfather Movies\": godfather_saga_movies,\n",
    "        \"Star Wars Movies\": starwars_saga_movies,\n",
    "        \"Star Trek Movies\": startrek_saga_movies\n",
    "    }\n",
    "\n",
    "    for movie_category, movies in all_saga_movies.items():\n",
    "        print(f\"\\n{movie_category}:\")\n",
    "        for movie in movies:\n",
    "            if movie in df['title'].values:\n",
    "                cluster_value = df.loc[df['title'] == movie, cluster_col].values[0]\n",
    "                print(f\"{movie}: Cluster {cluster_value}\")\n",
    "            else:\n",
    "                print(f\"{movie}: Not found in DataFrame\")"
   ]
  },
  {
   "cell_type": "code",
   "execution_count": 143,
   "metadata": {},
   "outputs": [
    {
     "name": "stdout",
     "output_type": "stream",
     "text": [
      "\n",
      "Rocky Movies:\n",
      "Rocky (1976): Cluster 18\n",
      "Rocky II (1979): Cluster 18\n",
      "Rocky III (1982): Cluster 18\n",
      "Rocky IV (1985): Cluster 18\n",
      "Rocky V (1990): Cluster 15\n",
      "\n",
      "Karate Kid Movies:\n",
      "Karate Kid, The (1984): Cluster 24\n",
      "Karate Kid, Part II, The (1986): Cluster 24\n",
      "Karate Kid III, The (1989): Cluster 15\n",
      "\n",
      "Superman Movies:\n",
      "Superman (1978): Cluster 18\n",
      "Superman II (1980): Cluster 18\n",
      "Superman III (1983): Cluster 15\n",
      "Superman IV: The Quest for Peace (1987): Cluster 15\n",
      "\n",
      "Batman Movies:\n",
      "Batman Forever (1995): Cluster 15\n",
      "Batman (1989): Cluster 18\n",
      "Batman Returns (1992): Cluster 18\n",
      "Batman & Robin (1997): Cluster 15\n",
      "\n",
      "Godfather Movies:\n",
      "Godfather: Part III, The (1990): Cluster 15\n",
      "Godfather: Part II, The (1974): Cluster 13\n",
      "Godfather, The (1972): Cluster 13\n",
      "\n",
      "Star Wars Movies:\n",
      "Star Wars: Episode I - The Phantom Menace (1999): Cluster 18\n",
      "Star Wars: Episode VI - Return of the Jedi (1983): Cluster 18\n",
      "Star Wars: Episode V - The Empire Strikes Back (1980): Cluster 18\n",
      "Star Wars: Episode IV - A New Hope (1977): Cluster 18\n",
      "\n",
      "Star Trek Movies:\n",
      "Star Trek: First Contact (1996): Cluster 18\n",
      "Star Trek: The Motion Picture (1979): Cluster 18\n",
      "Star Trek VI: The Undiscovered Country (1991): Cluster 18\n",
      "Star Trek V: The Final Frontier (1989): Cluster 15\n",
      "Star Trek: The Wrath of Khan (1982): Cluster 18\n",
      "Star Trek III: The Search for Spock (1984): Cluster 18\n",
      "Star Trek IV: The Voyage Home (1986): Cluster 18\n",
      "Star Trek: Insurrection (1998): Cluster 15\n"
     ]
    }
   ],
   "source": [
    "print_sagas_in_clusters(movies_reviewed, 'kmeans_cluster')"
   ]
  },
  {
   "cell_type": "markdown",
   "metadata": {},
   "source": [
    "Podemos ver que a única franquia que ficou inteiramente em um único cluster foi a franquia de Star Wars"
   ]
  },
  {
   "cell_type": "code",
   "execution_count": 144,
   "metadata": {},
   "outputs": [
    {
     "data": {
      "text/plain": [
       "60.58233095196809"
      ]
     },
     "execution_count": 144,
     "metadata": {},
     "output_type": "execute_result"
    }
   ],
   "source": [
    "kmeans_avg_composition = 0\n",
    "for key in cluster_main_gender_kmeans:\n",
    "    kmeans_avg_composition += cluster_main_gender_kmeans[key][1]\n",
    "kmeans_avg_composition = kmeans_avg_composition/len(cluster_main_gender_kmeans)\n",
    "kmeans_avg_composition"
   ]
  },
  {
   "cell_type": "markdown",
   "metadata": {},
   "source": [
    "## 7.2 Clustering Hierárquico"
   ]
  },
  {
   "cell_type": "code",
   "execution_count": 146,
   "metadata": {},
   "outputs": [],
   "source": [
    "cluster_main_gender_hierarchical = {}"
   ]
  },
  {
   "cell_type": "code",
   "execution_count": 148,
   "metadata": {},
   "outputs": [],
   "source": [
    "for cluster in movies_reviewed['hierarchical_cluster'].unique():\n",
    "    cluster_df = movies_reviewed[movies_reviewed['hierarchical_cluster'] == cluster]\n",
    "    \n",
    "    genre_counts = {genre: 0 for genre in unique_genres}\n",
    "    \n",
    "    cluster_total_movies = len(cluster_df)\n",
    "    for genres in cluster_df['genres'].dropna():\n",
    "        for genre in genres.split(','):\n",
    "            if genre in genre_counts:\n",
    "                genre_counts[genre] += 1\n",
    "    \n",
    "    if genre_counts:\n",
    "        main_gender = max(genre_counts, key=genre_counts.get)\n",
    "        percentage = (genre_counts[main_gender] / cluster_total_movies) * 100\n",
    "    else:\n",
    "        main_gender = None \n",
    "    \n",
    "    cluster_main_gender_hierarchical[cluster] = (main_gender, percentage)"
   ]
  },
  {
   "cell_type": "code",
   "execution_count": 149,
   "metadata": {},
   "outputs": [
    {
     "data": {
      "text/plain": [
       "{1: ('Comedy', 28.436018957345972),\n",
       " 5: ('Drama', 45.141065830721004),\n",
       " 19: ('Drama', 43.94904458598726),\n",
       " 2: ('Comedy', 37.2093023255814),\n",
       " 6: ('Drama', 44.827586206896555),\n",
       " 10: ('Comedy', 44.099378881987576),\n",
       " 17: ('Drama', 45.0),\n",
       " 21: ('Horror', 50.42016806722689),\n",
       " 3: ('Drama', 35.9375),\n",
       " 0: ('Comedy', 38.125),\n",
       " 8: ('Drama', 31.92771084337349),\n",
       " 11: ('Drama', 50.526315789473685),\n",
       " 13: ('Drama', 100.0),\n",
       " 4: ('Horror', 25.0),\n",
       " 23: ('Drama', 56.52173913043478),\n",
       " 24: ('Drama', 50.943396226415096),\n",
       " 9: ('Drama', 49.45054945054945),\n",
       " 14: ('Drama', 53.42465753424658),\n",
       " 18: ('Drama', 61.19402985074627),\n",
       " 16: ('Drama', 58.97435897435898),\n",
       " 12: ('Drama', 58.620689655172406),\n",
       " 7: ('Drama', 42.028985507246375),\n",
       " 22: ('Drama', 68.42105263157895),\n",
       " 15: ('Drama', 48.717948717948715),\n",
       " 25: ('Comedy', 77.77777777777779),\n",
       " 20: ('Drama', 41.46341463414634)}"
      ]
     },
     "execution_count": 149,
     "metadata": {},
     "output_type": "execute_result"
    }
   ],
   "source": [
    "cluster_main_gender_hierarchical"
   ]
  },
  {
   "cell_type": "code",
   "execution_count": 150,
   "metadata": {},
   "outputs": [
    {
     "data": {
      "text/plain": [
       "49.543757368431365"
      ]
     },
     "execution_count": 150,
     "metadata": {},
     "output_type": "execute_result"
    }
   ],
   "source": [
    "hierarquico_avg_composition = 0\n",
    "for key in cluster_main_gender_hierarchical:\n",
    "    hierarquico_avg_composition += cluster_main_gender_hierarchical[key][1]\n",
    "hierarquico_avg_composition = hierarquico_avg_composition/len(cluster_main_gender_hierarchical)\n",
    "hierarquico_avg_composition"
   ]
  },
  {
   "cell_type": "markdown",
   "metadata": {},
   "source": [
    "Apenas um único cluster ficou bem definido, que foi o cluster que foi composto 100% por filmes de drama, já os demais, não tiveram muita coerência"
   ]
  },
  {
   "cell_type": "code",
   "execution_count": 153,
   "metadata": {},
   "outputs": [
    {
     "name": "stdout",
     "output_type": "stream",
     "text": [
      "\n",
      "Rocky Movies:\n",
      "Rocky (1976): Cluster 5\n",
      "Rocky II (1979): Cluster 5\n",
      "Rocky III (1982): Cluster 5\n",
      "Rocky IV (1985): Cluster 5\n",
      "Rocky V (1990): Cluster 5\n",
      "\n",
      "Karate Kid Movies:\n",
      "Karate Kid, The (1984): Cluster 5\n",
      "Karate Kid, Part II, The (1986): Cluster 5\n",
      "Karate Kid III, The (1989): Cluster 5\n",
      "\n",
      "Superman Movies:\n",
      "Superman (1978): Cluster 2\n",
      "Superman II (1980): Cluster 2\n",
      "Superman III (1983): Cluster 5\n",
      "Superman IV: The Quest for Peace (1987): Cluster 5\n",
      "\n",
      "Batman Movies:\n",
      "Batman Forever (1995): Cluster 2\n",
      "Batman (1989): Cluster 24\n",
      "Batman Returns (1992): Cluster 24\n",
      "Batman & Robin (1997): Cluster 2\n",
      "\n",
      "Godfather Movies:\n",
      "Godfather: Part III, The (1990): Cluster 5\n",
      "Godfather: Part II, The (1974): Cluster 5\n",
      "Godfather, The (1972): Cluster 5\n",
      "\n",
      "Star Wars Movies:\n",
      "Star Wars: Episode I - The Phantom Menace (1999): Cluster 24\n",
      "Star Wars: Episode VI - Return of the Jedi (1983): Cluster 24\n",
      "Star Wars: Episode V - The Empire Strikes Back (1980): Cluster 24\n",
      "Star Wars: Episode IV - A New Hope (1977): Cluster 24\n",
      "\n",
      "Star Trek Movies:\n",
      "Star Trek: First Contact (1996): Cluster 4\n",
      "Star Trek: The Motion Picture (1979): Cluster 4\n",
      "Star Trek VI: The Undiscovered Country (1991): Cluster 4\n",
      "Star Trek V: The Final Frontier (1989): Cluster 4\n",
      "Star Trek: The Wrath of Khan (1982): Cluster 2\n",
      "Star Trek III: The Search for Spock (1984): Cluster 4\n",
      "Star Trek IV: The Voyage Home (1986): Cluster 2\n",
      "Star Trek: Insurrection (1998): Cluster 4\n"
     ]
    }
   ],
   "source": [
    "print_sagas_in_clusters(movies_reviewed, 'hierarchical_cluster')\n"
   ]
  },
  {
   "cell_type": "markdown",
   "metadata": {},
   "source": [
    "Algumas sagas até fizeram sentido, como por exemplo Rocky e Karate Kid. E várias sagas ficaram inteiramente contidas em um único cluster. Porém, Godfather também fez parte deste mesmo cluster e, além disso, não houve nenhum cluster que contivesse ao menos um filme da saga Star Wars e, simultaneamente, ao menos um filme da saga Star Trek."
   ]
  }
 ],
 "metadata": {
  "kernelspec": {
   "display_name": "Python 3",
   "language": "python",
   "name": "python3"
  },
  "language_info": {
   "codemirror_mode": {
    "name": "ipython",
    "version": 3
   },
   "file_extension": ".py",
   "mimetype": "text/x-python",
   "name": "python",
   "nbconvert_exporter": "python",
   "pygments_lexer": "ipython3",
   "version": "3.11.3"
  }
 },
 "nbformat": 4,
 "nbformat_minor": 2
}
